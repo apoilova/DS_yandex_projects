{
 "cells": [
  {
   "cell_type": "markdown",
   "metadata": {},
   "source": [
    "# Рекомендация тарифов"
   ]
  },
  {
   "cell_type": "markdown",
   "metadata": {},
   "source": [
    "В вашем распоряжении данные о поведении клиентов, которые уже перешли на эти тарифы (из проекта курса «Статистический анализ данных»). Нужно построить модель для задачи классификации, которая выберет подходящий тариф. Предобработка данных не понадобится — вы её уже сделали.\n",
    "\n",
    "Постройте модель с максимально большим значением *accuracy*. Чтобы сдать проект успешно, нужно довести долю правильных ответов по крайней мере до 0.75. Проверьте *accuracy* на тестовой выборке самостоятельно."
   ]
  },
  {
   "cell_type": "markdown",
   "metadata": {},
   "source": [
    "## Откройте и изучите файл"
   ]
  },
  {
   "cell_type": "code",
   "execution_count": 1,
   "metadata": {},
   "outputs": [],
   "source": [
    "import pandas as pd\n",
    "import matplotlib.pyplot as plt \n",
    "\n",
    "from sklearn.model_selection import train_test_split\n",
    "from sklearn.tree import DecisionTreeClassifier\n",
    "from sklearn.metrics import accuracy_score\n",
    "from sklearn.ensemble import RandomForestClassifier\n",
    "from sklearn.linear_model import LogisticRegression\n",
    "from sklearn import tree\n",
    "from sklearn.dummy import DummyClassifier\n",
    "\n",
    "from tqdm import tqdm"
   ]
  },
  {
   "cell_type": "code",
   "execution_count": 2,
   "metadata": {},
   "outputs": [],
   "source": [
    "data = pd.read_csv('https://code.s3.yandex.net/datasets/users_behavior.csv')"
   ]
  },
  {
   "cell_type": "code",
   "execution_count": 3,
   "metadata": {},
   "outputs": [],
   "source": [
    "pd.set_option('display.max_columns', None)"
   ]
  },
  {
   "cell_type": "code",
   "execution_count": 4,
   "metadata": {
    "scrolled": true
   },
   "outputs": [
    {
     "data": {
      "text/html": [
       "<div>\n",
       "<style scoped>\n",
       "    .dataframe tbody tr th:only-of-type {\n",
       "        vertical-align: middle;\n",
       "    }\n",
       "\n",
       "    .dataframe tbody tr th {\n",
       "        vertical-align: top;\n",
       "    }\n",
       "\n",
       "    .dataframe thead th {\n",
       "        text-align: right;\n",
       "    }\n",
       "</style>\n",
       "<table border=\"1\" class=\"dataframe\">\n",
       "  <thead>\n",
       "    <tr style=\"text-align: right;\">\n",
       "      <th></th>\n",
       "      <th>calls</th>\n",
       "      <th>minutes</th>\n",
       "      <th>messages</th>\n",
       "      <th>mb_used</th>\n",
       "      <th>is_ultra</th>\n",
       "    </tr>\n",
       "  </thead>\n",
       "  <tbody>\n",
       "    <tr>\n",
       "      <th>0</th>\n",
       "      <td>40.0</td>\n",
       "      <td>311.90</td>\n",
       "      <td>83.0</td>\n",
       "      <td>19915.42</td>\n",
       "      <td>0</td>\n",
       "    </tr>\n",
       "    <tr>\n",
       "      <th>1</th>\n",
       "      <td>85.0</td>\n",
       "      <td>516.75</td>\n",
       "      <td>56.0</td>\n",
       "      <td>22696.96</td>\n",
       "      <td>0</td>\n",
       "    </tr>\n",
       "    <tr>\n",
       "      <th>2</th>\n",
       "      <td>77.0</td>\n",
       "      <td>467.66</td>\n",
       "      <td>86.0</td>\n",
       "      <td>21060.45</td>\n",
       "      <td>0</td>\n",
       "    </tr>\n",
       "    <tr>\n",
       "      <th>3</th>\n",
       "      <td>106.0</td>\n",
       "      <td>745.53</td>\n",
       "      <td>81.0</td>\n",
       "      <td>8437.39</td>\n",
       "      <td>1</td>\n",
       "    </tr>\n",
       "    <tr>\n",
       "      <th>4</th>\n",
       "      <td>66.0</td>\n",
       "      <td>418.74</td>\n",
       "      <td>1.0</td>\n",
       "      <td>14502.75</td>\n",
       "      <td>0</td>\n",
       "    </tr>\n",
       "  </tbody>\n",
       "</table>\n",
       "</div>"
      ],
      "text/plain": [
       "   calls  minutes  messages   mb_used  is_ultra\n",
       "0   40.0   311.90      83.0  19915.42         0\n",
       "1   85.0   516.75      56.0  22696.96         0\n",
       "2   77.0   467.66      86.0  21060.45         0\n",
       "3  106.0   745.53      81.0   8437.39         1\n",
       "4   66.0   418.74       1.0  14502.75         0"
      ]
     },
     "execution_count": 4,
     "metadata": {},
     "output_type": "execute_result"
    }
   ],
   "source": [
    "data.head()"
   ]
  },
  {
   "cell_type": "code",
   "execution_count": 5,
   "metadata": {
    "scrolled": true
   },
   "outputs": [
    {
     "name": "stdout",
     "output_type": "stream",
     "text": [
      "<class 'pandas.core.frame.DataFrame'>\n",
      "RangeIndex: 3214 entries, 0 to 3213\n",
      "Data columns (total 5 columns):\n",
      " #   Column    Non-Null Count  Dtype  \n",
      "---  ------    --------------  -----  \n",
      " 0   calls     3214 non-null   float64\n",
      " 1   minutes   3214 non-null   float64\n",
      " 2   messages  3214 non-null   float64\n",
      " 3   mb_used   3214 non-null   float64\n",
      " 4   is_ultra  3214 non-null   int64  \n",
      "dtypes: float64(4), int64(1)\n",
      "memory usage: 125.7 KB\n"
     ]
    }
   ],
   "source": [
    "data.info()"
   ]
  },
  {
   "cell_type": "code",
   "execution_count": 6,
   "metadata": {
    "scrolled": true
   },
   "outputs": [
    {
     "data": {
      "text/html": [
       "<div>\n",
       "<style scoped>\n",
       "    .dataframe tbody tr th:only-of-type {\n",
       "        vertical-align: middle;\n",
       "    }\n",
       "\n",
       "    .dataframe tbody tr th {\n",
       "        vertical-align: top;\n",
       "    }\n",
       "\n",
       "    .dataframe thead th {\n",
       "        text-align: right;\n",
       "    }\n",
       "</style>\n",
       "<table border=\"1\" class=\"dataframe\">\n",
       "  <thead>\n",
       "    <tr style=\"text-align: right;\">\n",
       "      <th></th>\n",
       "      <th>calls</th>\n",
       "      <th>minutes</th>\n",
       "      <th>messages</th>\n",
       "      <th>mb_used</th>\n",
       "      <th>is_ultra</th>\n",
       "    </tr>\n",
       "  </thead>\n",
       "  <tbody>\n",
       "    <tr>\n",
       "      <th>count</th>\n",
       "      <td>3214.000000</td>\n",
       "      <td>3214.000000</td>\n",
       "      <td>3214.000000</td>\n",
       "      <td>3214.000000</td>\n",
       "      <td>3214.000000</td>\n",
       "    </tr>\n",
       "    <tr>\n",
       "      <th>mean</th>\n",
       "      <td>63.038892</td>\n",
       "      <td>438.208787</td>\n",
       "      <td>38.281269</td>\n",
       "      <td>17207.673836</td>\n",
       "      <td>0.306472</td>\n",
       "    </tr>\n",
       "    <tr>\n",
       "      <th>std</th>\n",
       "      <td>33.236368</td>\n",
       "      <td>234.569872</td>\n",
       "      <td>36.148326</td>\n",
       "      <td>7570.968246</td>\n",
       "      <td>0.461100</td>\n",
       "    </tr>\n",
       "    <tr>\n",
       "      <th>min</th>\n",
       "      <td>0.000000</td>\n",
       "      <td>0.000000</td>\n",
       "      <td>0.000000</td>\n",
       "      <td>0.000000</td>\n",
       "      <td>0.000000</td>\n",
       "    </tr>\n",
       "    <tr>\n",
       "      <th>25%</th>\n",
       "      <td>40.000000</td>\n",
       "      <td>274.575000</td>\n",
       "      <td>9.000000</td>\n",
       "      <td>12491.902500</td>\n",
       "      <td>0.000000</td>\n",
       "    </tr>\n",
       "    <tr>\n",
       "      <th>50%</th>\n",
       "      <td>62.000000</td>\n",
       "      <td>430.600000</td>\n",
       "      <td>30.000000</td>\n",
       "      <td>16943.235000</td>\n",
       "      <td>0.000000</td>\n",
       "    </tr>\n",
       "    <tr>\n",
       "      <th>75%</th>\n",
       "      <td>82.000000</td>\n",
       "      <td>571.927500</td>\n",
       "      <td>57.000000</td>\n",
       "      <td>21424.700000</td>\n",
       "      <td>1.000000</td>\n",
       "    </tr>\n",
       "    <tr>\n",
       "      <th>max</th>\n",
       "      <td>244.000000</td>\n",
       "      <td>1632.060000</td>\n",
       "      <td>224.000000</td>\n",
       "      <td>49745.730000</td>\n",
       "      <td>1.000000</td>\n",
       "    </tr>\n",
       "  </tbody>\n",
       "</table>\n",
       "</div>"
      ],
      "text/plain": [
       "             calls      minutes     messages       mb_used     is_ultra\n",
       "count  3214.000000  3214.000000  3214.000000   3214.000000  3214.000000\n",
       "mean     63.038892   438.208787    38.281269  17207.673836     0.306472\n",
       "std      33.236368   234.569872    36.148326   7570.968246     0.461100\n",
       "min       0.000000     0.000000     0.000000      0.000000     0.000000\n",
       "25%      40.000000   274.575000     9.000000  12491.902500     0.000000\n",
       "50%      62.000000   430.600000    30.000000  16943.235000     0.000000\n",
       "75%      82.000000   571.927500    57.000000  21424.700000     1.000000\n",
       "max     244.000000  1632.060000   224.000000  49745.730000     1.000000"
      ]
     },
     "execution_count": 6,
     "metadata": {},
     "output_type": "execute_result"
    }
   ],
   "source": [
    "data.describe()"
   ]
  },
  {
   "cell_type": "code",
   "execution_count": 7,
   "metadata": {},
   "outputs": [],
   "source": [
    "data = data.astype({ \"calls\": \"int64\", \"messages\": \"int64\"})"
   ]
  },
  {
   "cell_type": "markdown",
   "metadata": {},
   "source": [
    "<div style=\"border:solid skyblue 4px; padding: 20px\">\n",
    "    \n",
    "- Предобработка данных не требуется.\n",
    "- Звонки и сообщения приведены к целочисленному типу."
   ]
  },
  {
   "cell_type": "markdown",
   "metadata": {},
   "source": [
    "## Разбейте данные на выборки"
   ]
  },
  {
   "cell_type": "markdown",
   "metadata": {},
   "source": [
    "<div style=\"border:solid skyblue 4px; padding: 20px\">\n",
    "\n",
    "Данные нужно разбить на три части: обучающую, валидационную и тестовую. Размеры тестового и валидационного наборов обычно равны. Исходные данные разбивают в соотношении 3:1:1. (60 20 20)"
   ]
  },
  {
   "cell_type": "code",
   "execution_count": 8,
   "metadata": {},
   "outputs": [
    {
     "name": "stdout",
     "output_type": "stream",
     "text": [
      "(1928, 5)\n"
     ]
    },
    {
     "data": {
      "text/plain": [
       "(1286, 5)"
      ]
     },
     "execution_count": 8,
     "metadata": {},
     "output_type": "execute_result"
    }
   ],
   "source": [
    "data_train, data_other = train_test_split(data, test_size=0.4, random_state=12345, stratify = data['is_ultra'])\n",
    "print(data_train.shape)\n",
    "data_other.shape"
   ]
  },
  {
   "cell_type": "code",
   "execution_count": 9,
   "metadata": {},
   "outputs": [],
   "source": [
    "data_valid, data_test = train_test_split(data_other, test_size=0.5, random_state=12345, stratify = data_other['is_ultra'])"
   ]
  },
  {
   "cell_type": "code",
   "execution_count": 10,
   "metadata": {},
   "outputs": [
    {
     "name": "stdout",
     "output_type": "stream",
     "text": [
      "(643, 5)\n"
     ]
    },
    {
     "data": {
      "text/plain": [
       "(643, 5)"
      ]
     },
     "execution_count": 10,
     "metadata": {},
     "output_type": "execute_result"
    }
   ],
   "source": [
    "print(data_valid.shape)\n",
    "data_test.shape"
   ]
  },
  {
   "cell_type": "markdown",
   "metadata": {},
   "source": [
    "## Исследуйте модели"
   ]
  },
  {
   "cell_type": "code",
   "execution_count": 11,
   "metadata": {},
   "outputs": [],
   "source": [
    "features_train = data_train.drop(['is_ultra'], axis=1)\n",
    "target_train = data_train['is_ultra']\n",
    "features_valid = data_valid.drop(['is_ultra'], axis=1)\n",
    "target_valid = data_valid['is_ultra']"
   ]
  },
  {
   "cell_type": "markdown",
   "metadata": {},
   "source": [
    "### Изменение гиперпараметров рещающего дерева."
   ]
  },
  {
   "cell_type": "markdown",
   "metadata": {},
   "source": [
    "<div style=\"border:solid skyblue 4px; padding: 20px\">\n",
    "\n",
    "Для начала посмотрим на изменение гиперпараметра максимальной глубины."
   ]
  },
  {
   "cell_type": "code",
   "execution_count": 12,
   "metadata": {
    "scrolled": true
   },
   "outputs": [
    {
     "data": {
      "image/png": "[encoded data removed]",
      "text/plain": [
       "<Figure size 432x288 with 1 Axes>"
      ]
     },
     "metadata": {
      "needs_background": "light"
     },
     "output_type": "display_data"
    }
   ],
   "source": [
    "chart = pd.DataFrame(columns=['max_depth','acc_train','acc_valid'])\n",
    "\n",
    "\n",
    "for depth in range(1,15):\n",
    "    model = DecisionTreeClassifier(random_state=12345, max_depth=depth)        \n",
    "    model.fit(features_train, target_train)\n",
    "    predictions = model.predict(features_valid)\n",
    "    acc_train = model.score(features_train, target_train)\n",
    "    acc_valid = accuracy_score(target_valid, predictions)\n",
    "    chart = chart.append({'max_depth' : depth, 'acc_train' : acc_train, 'acc_valid' : acc_valid}, ignore_index=True)\n",
    "\n",
    "chart.plot( x='max_depth', y=['acc_train','acc_valid'], grid=True, ylabel='accuracy', title='DecisionTreeClassifier')\n",
    "plt.show()\n"
   ]
  },
  {
   "cell_type": "markdown",
   "metadata": {},
   "source": [
    " <div style=\"border:solid skyblue 4px; padding: 20px\">\n",
    "    \n",
    "Наилучший результат со значением 8. Посмотрим на гиперпараметр `splitter` (по умолчанию = \"best\")."
   ]
  },
  {
   "cell_type": "code",
   "execution_count": 13,
   "metadata": {
    "scrolled": true
   },
   "outputs": [
    {
     "name": "stdout",
     "output_type": "stream",
     "text": [
      "0.7978227060653188\n"
     ]
    }
   ],
   "source": [
    "model = DecisionTreeClassifier(max_depth=8, splitter = 'random')\n",
    "model.fit(features_train, target_train)\n",
    "predictions = model.predict(features_valid)\n",
    "result = accuracy_score(target_valid, predictions)\n",
    "print(result)"
   ]
  },
  {
   "cell_type": "markdown",
   "metadata": {},
   "source": [
    "<div style=\"border:solid skyblue 4px; padding: 20px\">\n",
    "\n",
    "Результат стал хуже. Оставим по умолчанию \"лучший\". Добавим элемент псевдослучайности."
   ]
  },
  {
   "cell_type": "markdown",
   "metadata": {},
   "source": [
    "<div style=\"border:solid skyblue 4px; padding: 20px\">\n",
    "\n",
    "**Промежуточный вывод**\n",
    "\n",
    "Лучшие значения гиперпараметров для решающего дерева(`accuracy = 0.8`):\n",
    "    \n",
    "- `max_depth` - 8.   \n",
    "    \n",
    "- `splitter` - 'best'(по умолчанию)."
   ]
  },
  {
   "cell_type": "markdown",
   "metadata": {},
   "source": [
    "### Изменение гиперпараметров случайного леса."
   ]
  },
  {
   "cell_type": "markdown",
   "metadata": {},
   "source": [
    "<div style=\"border:solid skyblue 4px; padding: 20px\">\n",
    "    \n",
    "Рассмотрим смену гиперпараметра `количество деревьев` и `глубину леса`."
   ]
  },
  {
   "cell_type": "code",
   "execution_count": 14,
   "metadata": {
    "scrolled": false
   },
   "outputs": [
    {
     "name": "stderr",
     "output_type": "stream",
     "text": [
      "100%|██████████| 20/20 [00:43<00:00,  2.17s/it]"
     ]
    },
    {
     "name": "stdout",
     "output_type": "stream",
     "text": [
      "Accuracy наилучшей модели на валидационной выборке:0.8164852255054432, при n_estimators: 105, max_depth: 8\n"
     ]
    },
    {
     "name": "stderr",
     "output_type": "stream",
     "text": [
      "\n"
     ]
    }
   ],
   "source": [
    "best_model = None\n",
    "best_result = 0\n",
    "for est in tqdm(range(100, 120)):\n",
    "    for depth in range(1, 10):\n",
    "        model = RandomForestClassifier(random_state=12345, n_estimators=est, max_depth = depth)\n",
    "        model.fit(features_train, target_train)\n",
    "        predictions = model.predict(features_valid)\n",
    "        result = accuracy_score(target_valid, predictions)\n",
    "        if result > best_result:\n",
    "            best_model = model \n",
    "            best_result = result\n",
    "            est_best = est\n",
    "            depth_best = depth\n",
    "\n",
    "print(f'Accuracy наилучшей модели на валидационной выборке:\\\n",
    "{best_result}, при n_estimators: {est_best}, max_depth: {depth_best}')"
   ]
  },
  {
   "cell_type": "markdown",
   "metadata": {},
   "source": [
    "<div style=\"border:solid skyblue 4px; padding: 20px\">\n",
    "    \n",
    "Лес из 105 деревьев при глубине 8 показал лучший результат. "
   ]
  },
  {
   "cell_type": "markdown",
   "metadata": {},
   "source": [
    "<div style=\"border:solid skyblue 4px; padding: 20px\">\n",
    "\n",
    "**Промежуточный вывод**\n",
    "\n",
    "Лучшие значения гиперпараметров для случайного дерева(`accuracy = 0.816`):\n",
    "    \n",
    "- `max_depth` - 8.\n",
    "    \n",
    "- `n_estimators` - 105."
   ]
  },
  {
   "cell_type": "markdown",
   "metadata": {},
   "source": [
    "### Изменение гиперпараметров логистической регрессии."
   ]
  },
  {
   "cell_type": "markdown",
   "metadata": {},
   "source": [
    "<div style=\"border:solid skyblue 4px; padding: 20px\">\n",
    "    \n",
    "Посмотрим, как влияет количество итераций."
   ]
  },
  {
   "cell_type": "code",
   "execution_count": 15,
   "metadata": {
    "scrolled": true
   },
   "outputs": [
    {
     "name": "stdout",
     "output_type": "stream",
     "text": [
      "accuracy = 0.7387247278382582, max_iter = 100\n",
      "accuracy = 0.7387247278382582, max_iter = 500\n",
      "accuracy = 0.7387247278382582, max_iter = 1000\n",
      "accuracy = 0.7387247278382582, max_iter = 10000\n"
     ]
    }
   ],
   "source": [
    "max_iter_list = [100, 500, 1000, 10000]\n",
    "for i in max_iter_list:\n",
    "    model = LogisticRegression(random_state=12345, solver='lbfgs', max_iter=i)\n",
    "    model.fit(features_train, target_train)\n",
    "    predictions = model.predict(features_valid)\n",
    "    result = accuracy_score(target_valid, predictions)\n",
    "    print(f'accuracy = {result}, max_iter = {i}')"
   ]
  },
  {
   "cell_type": "markdown",
   "metadata": {},
   "source": [
    "<div style=\"border:solid skyblue 4px; padding: 20px\">\n",
    "Влияния количества итерация в данном случае нет. Изменим гиперпараметр `solver` на liblinear, так как на небольшом объеме данных он должен лучше подойти."
   ]
  },
  {
   "cell_type": "code",
   "execution_count": 16,
   "metadata": {},
   "outputs": [
    {
     "name": "stdout",
     "output_type": "stream",
     "text": [
      "0.71850699844479\n"
     ]
    }
   ],
   "source": [
    "model = LogisticRegression(random_state=12345, solver='liblinear')\n",
    "model.fit(features_train, target_train)\n",
    "predictions = model.predict(features_valid)\n",
    "result = accuracy_score(target_valid, predictions)\n",
    "print(result)"
   ]
  },
  {
   "cell_type": "markdown",
   "metadata": {},
   "source": [
    "<div style=\"border:solid skyblue 4px; padding: 20px\">\n",
    "\n",
    "Результат стал лучше. Посмотрим, что изменится, если убрать псевдослучайность."
   ]
  },
  {
   "cell_type": "code",
   "execution_count": 17,
   "metadata": {},
   "outputs": [
    {
     "name": "stdout",
     "output_type": "stream",
     "text": [
      "0.71850699844479\n"
     ]
    }
   ],
   "source": [
    "model = LogisticRegression(solver='liblinear', max_iter= 100)\n",
    "model.fit(features_train, target_train)\n",
    "predictions = model.predict(features_valid)\n",
    "result = accuracy_score(target_valid, predictions)\n",
    "print(result)"
   ]
  },
  {
   "cell_type": "markdown",
   "metadata": {},
   "source": [
    "<div style=\"border:solid skyblue 4px; padding: 20px\">\n",
    "\n",
    "Результат не изменился."
   ]
  },
  {
   "cell_type": "markdown",
   "metadata": {},
   "source": [
    "<div style=\"border:solid skyblue 4px; padding: 20px\">\n",
    "\n",
    "**Промежуточный вывод**\n",
    "\n",
    "Лучшие значения гиперпараметров для логистической регрессии(`accuracy = 0.757`):\n",
    "    \n",
    "- `solver` - `liblinear`.\n",
    "    \n",
    "    \n",
    "Влияние количества итераций и псевдослучайности не обнаружено."
   ]
  },
  {
   "cell_type": "markdown",
   "metadata": {},
   "source": [
    "### Вывод."
   ]
  },
  {
   "cell_type": "markdown",
   "metadata": {},
   "source": [
    "<div style=\"border:solid skyblue 4px; padding: 20px\">\n",
    "\n",
    "Самое высокое `accuracy` получилось у случайного леса с гиперпараметрами:\n",
    "\n",
    "- `max_depth` - 8.\n",
    "    \n",
    "- `n_estimators` - 105."
   ]
  },
  {
   "cell_type": "markdown",
   "metadata": {},
   "source": [
    "## Проверьте модель на тестовой выборке"
   ]
  },
  {
   "cell_type": "code",
   "execution_count": 18,
   "metadata": {},
   "outputs": [
    {
     "data": {
      "text/plain": [
       "0.8102643856920684"
      ]
     },
     "execution_count": 18,
     "metadata": {},
     "output_type": "execute_result"
    }
   ],
   "source": [
    "features_test = data_test.drop(['is_ultra'], axis=1)\n",
    "target_test = data_test['is_ultra']\n",
    "\n",
    "model = RandomForestClassifier(max_depth=8, n_estimators = 105, random_state = 12345)\n",
    "model.fit(features_train, target_train)\n",
    "predictions = model.predict(features_test)\n",
    "accuracy = accuracy_score(target_test, predictions)\n",
    "\n",
    "accuracy"
   ]
  },
  {
   "cell_type": "markdown",
   "metadata": {},
   "source": [
    "## (бонус) Проверьте модели на адекватность"
   ]
  },
  {
   "cell_type": "code",
   "execution_count": 20,
   "metadata": {
    "scrolled": true
   },
   "outputs": [
    {
     "data": {
      "text/plain": [
       "0.6936236391912908"
      ]
     },
     "execution_count": 20,
     "metadata": {},
     "output_type": "execute_result"
    }
   ],
   "source": [
    "dummy_clf = DummyClassifier(strategy='most_frequent')\n",
    "dummy_clf.fit(features_train, target_train)\n",
    "DummyClassifier(strategy='most_frequent')\n",
    "dummy_clf.predict(features_train)\n",
    "score = dummy_clf.score(features_test, target_test)\n",
    "score"
   ]
  },
  {
   "cell_type": "markdown",
   "metadata": {},
   "source": [
    "Заключение по проекту:\n",
    "\n",
    "Предобработка данных:\n",
    "\n",
    "Данные о звонках и сообщениях были приведены к целочисленному типу.\n",
    "Данные были разделены на три части: обучающую, валидационную и тестовую, с обычным соотношением 60-20-20.\n",
    "Исследование моделей:\n",
    "\n",
    "Гиперпараметры модели дерева решений были настроены, достигнута точность 0,8 с следующими лучшими значениями:\n",
    "max_depth: 8\n",
    "splitter: 'best' (по умолчанию).\n",
    "\n",
    "Гиперпараметры модели случайного леса были оптимизированы, достигнута точность 0,816 с следующими лучшими значениями:\n",
    "max_depth: 8\n",
    "n_estimators: 105.\n",
    "\n",
    "Гиперпараметры модели логистической регрессии были настроены, и достигнута точность 0,757 с следующими лучшими значениями:\n",
    "solver: 'liblinear'. Влияние количества итераций и псевдослучайности оказалось незначительным.\n",
    "\n",
    "Самая высокая точность была достигнута с использованием модели случайного леса с определенными гиперпараметрами:\n",
    "\n",
    "max_depth: 8\n",
    "\n",
    "n_estimators: 105.\n",
    "\n",
    "Модель была протестирована на тестовом наборе данных, дав точность 0,8.\n",
    "\n",
    "Для сравнения, простая базовая модель показала точность 0,6.\n",
    "\n",
    "В итоге, модель случайного леса с определенными гиперпараметрами оказалась наиболее точной в предсказании целевой переменной, превзойдя другие модели. Проект успешно исследовал различные алгоритмы машинного обучения и определил наилучшую модель для данной задачи."
   ]
  },
  {
   "cell_type": "code",
   "execution_count": null,
   "metadata": {},
   "outputs": [],
   "source": []
  }
 ],
 "metadata": {
  "ExecuteTimeLog": [
   {
    "duration": 1790,
    "start_time": "2023-03-26T13:17:58.143Z"
   },
   {
    "duration": 4,
    "start_time": "2023-03-26T13:17:59.935Z"
   },
   {
    "duration": 18,
    "start_time": "2023-03-26T13:17:59.940Z"
   },
   {
    "duration": 36,
    "start_time": "2023-03-26T13:17:59.959Z"
   },
   {
    "duration": 7,
    "start_time": "2023-03-26T13:17:59.997Z"
   },
   {
    "duration": 1668,
    "start_time": "2023-03-26T13:18:00.005Z"
   },
   {
    "duration": 8,
    "start_time": "2023-03-26T13:18:01.678Z"
   },
   {
    "duration": 49,
    "start_time": "2023-03-26T13:18:01.689Z"
   },
   {
    "duration": 57,
    "start_time": "2023-03-26T13:18:01.740Z"
   },
   {
    "duration": 53,
    "start_time": "2023-03-26T13:18:01.799Z"
   },
   {
    "duration": 77,
    "start_time": "2023-03-26T13:18:01.854Z"
   },
   {
    "duration": 11,
    "start_time": "2023-03-26T13:18:01.933Z"
   },
   {
    "duration": 31,
    "start_time": "2023-03-26T13:18:01.945Z"
   },
   {
    "duration": 23,
    "start_time": "2023-03-26T13:18:01.993Z"
   },
   {
    "duration": 10256,
    "start_time": "2023-03-26T13:18:02.018Z"
   },
   {
    "duration": 2802,
    "start_time": "2023-03-26T13:18:12.276Z"
   },
   {
    "duration": 436,
    "start_time": "2023-03-26T13:18:15.086Z"
   },
   {
    "duration": 336,
    "start_time": "2023-03-26T13:18:15.526Z"
   },
   {
    "duration": 7,
    "start_time": "2023-03-26T13:18:15.864Z"
   },
   {
    "duration": 114,
    "start_time": "2023-03-26T13:18:15.878Z"
   },
   {
    "duration": 17,
    "start_time": "2023-03-26T13:18:16.000Z"
   },
   {
    "duration": 14,
    "start_time": "2023-03-26T13:18:16.025Z"
   },
   {
    "duration": 372,
    "start_time": "2023-03-26T13:18:16.040Z"
   },
   {
    "duration": 1505,
    "start_time": "2023-03-27T08:08:51.657Z"
   },
   {
    "duration": 42,
    "start_time": "2023-03-27T08:09:17.409Z"
   },
   {
    "duration": 12,
    "start_time": "2023-03-27T08:10:46.000Z"
   },
   {
    "duration": 3,
    "start_time": "2023-03-27T08:11:50.402Z"
   },
   {
    "duration": 3,
    "start_time": "2023-03-27T08:12:31.755Z"
   },
   {
    "duration": 110,
    "start_time": "2023-03-27T08:17:50.294Z"
   },
   {
    "duration": 1485,
    "start_time": "2023-03-27T08:18:07.116Z"
   },
   {
    "duration": 102,
    "start_time": "2023-03-27T08:18:08.603Z"
   },
   {
    "duration": 4,
    "start_time": "2023-03-27T08:18:08.707Z"
   },
   {
    "duration": 23,
    "start_time": "2023-03-27T08:18:08.713Z"
   },
   {
    "duration": 12,
    "start_time": "2023-03-27T08:18:08.738Z"
   },
   {
    "duration": 30,
    "start_time": "2023-03-27T08:18:08.751Z"
   },
   {
    "duration": 8,
    "start_time": "2023-03-27T08:18:08.783Z"
   },
   {
    "duration": 16,
    "start_time": "2023-03-27T08:18:08.793Z"
   },
   {
    "duration": 11,
    "start_time": "2023-03-27T08:18:08.811Z"
   },
   {
    "duration": 17,
    "start_time": "2023-03-27T08:18:08.825Z"
   },
   {
    "duration": 78,
    "start_time": "2023-03-27T08:18:08.845Z"
   },
   {
    "duration": 23,
    "start_time": "2023-03-27T08:18:08.925Z"
   },
   {
    "duration": 14,
    "start_time": "2023-03-27T08:18:08.950Z"
   },
   {
    "duration": 8488,
    "start_time": "2023-03-27T08:18:08.966Z"
   },
   {
    "duration": 2188,
    "start_time": "2023-03-27T08:18:17.456Z"
   },
   {
    "duration": 314,
    "start_time": "2023-03-27T08:18:19.646Z"
   },
   {
    "duration": 280,
    "start_time": "2023-03-27T08:18:19.961Z"
   },
   {
    "duration": 79,
    "start_time": "2023-03-27T08:18:20.243Z"
   },
   {
    "duration": 25,
    "start_time": "2023-03-27T08:18:20.324Z"
   },
   {
    "duration": 12,
    "start_time": "2023-03-27T08:18:20.351Z"
   },
   {
    "duration": 292,
    "start_time": "2023-03-27T08:18:20.364Z"
   },
   {
    "duration": 11,
    "start_time": "2023-03-27T08:20:38.489Z"
   },
   {
    "duration": 1531,
    "start_time": "2023-03-28T02:48:54.651Z"
   },
   {
    "duration": 156,
    "start_time": "2023-03-28T02:48:56.184Z"
   },
   {
    "duration": 3,
    "start_time": "2023-03-28T02:48:56.341Z"
   },
   {
    "duration": 18,
    "start_time": "2023-03-28T02:48:56.346Z"
   },
   {
    "duration": 12,
    "start_time": "2023-03-28T02:48:56.365Z"
   },
   {
    "duration": 23,
    "start_time": "2023-03-28T02:48:56.378Z"
   },
   {
    "duration": 4,
    "start_time": "2023-03-28T02:48:56.403Z"
   },
   {
    "duration": 126,
    "start_time": "2023-03-28T02:48:56.409Z"
   },
   {
    "duration": 0,
    "start_time": "2023-03-28T02:48:56.537Z"
   },
   {
    "duration": 0,
    "start_time": "2023-03-28T02:48:56.538Z"
   },
   {
    "duration": 0,
    "start_time": "2023-03-28T02:48:56.540Z"
   },
   {
    "duration": 0,
    "start_time": "2023-03-28T02:48:56.541Z"
   },
   {
    "duration": 0,
    "start_time": "2023-03-28T02:48:56.542Z"
   },
   {
    "duration": 0,
    "start_time": "2023-03-28T02:48:56.543Z"
   },
   {
    "duration": 0,
    "start_time": "2023-03-28T02:48:56.545Z"
   },
   {
    "duration": 0,
    "start_time": "2023-03-28T02:48:56.546Z"
   },
   {
    "duration": 0,
    "start_time": "2023-03-28T02:48:56.547Z"
   },
   {
    "duration": 0,
    "start_time": "2023-03-28T02:48:56.548Z"
   },
   {
    "duration": 0,
    "start_time": "2023-03-28T02:48:56.549Z"
   },
   {
    "duration": 0,
    "start_time": "2023-03-28T02:48:56.550Z"
   },
   {
    "duration": 0,
    "start_time": "2023-03-28T02:48:56.551Z"
   },
   {
    "duration": 12,
    "start_time": "2023-03-28T02:49:14.523Z"
   },
   {
    "duration": 8,
    "start_time": "2023-03-28T02:49:16.975Z"
   },
   {
    "duration": 5,
    "start_time": "2023-03-28T02:53:45.672Z"
   },
   {
    "duration": 5,
    "start_time": "2023-03-28T02:53:49.622Z"
   },
   {
    "duration": 22,
    "start_time": "2023-03-28T02:54:01.949Z"
   },
   {
    "duration": 13,
    "start_time": "2023-03-28T02:55:48.976Z"
   },
   {
    "duration": 9,
    "start_time": "2023-03-28T02:56:51.963Z"
   },
   {
    "duration": 5,
    "start_time": "2023-03-28T02:57:06.921Z"
   },
   {
    "duration": 13,
    "start_time": "2023-03-28T02:58:16.512Z"
   },
   {
    "duration": 18,
    "start_time": "2023-03-28T03:23:43.605Z"
   },
   {
    "duration": 11,
    "start_time": "2023-03-28T03:24:30.969Z"
   },
   {
    "duration": 6,
    "start_time": "2023-03-28T03:24:43.282Z"
   },
   {
    "duration": 6,
    "start_time": "2023-03-28T03:28:04.020Z"
   },
   {
    "duration": 8,
    "start_time": "2023-03-28T03:28:30.496Z"
   },
   {
    "duration": 4,
    "start_time": "2023-03-28T03:28:56.113Z"
   },
   {
    "duration": 12,
    "start_time": "2023-03-28T03:46:05.724Z"
   },
   {
    "duration": 1446,
    "start_time": "2023-03-28T03:46:14.210Z"
   },
   {
    "duration": 86,
    "start_time": "2023-03-28T03:46:15.658Z"
   },
   {
    "duration": 3,
    "start_time": "2023-03-28T03:46:15.745Z"
   },
   {
    "duration": 40,
    "start_time": "2023-03-28T03:46:15.749Z"
   },
   {
    "duration": 20,
    "start_time": "2023-03-28T03:46:15.792Z"
   },
   {
    "duration": 22,
    "start_time": "2023-03-28T03:46:15.814Z"
   },
   {
    "duration": 11,
    "start_time": "2023-03-28T03:46:15.837Z"
   },
   {
    "duration": 12,
    "start_time": "2023-03-28T03:46:15.850Z"
   },
   {
    "duration": 6,
    "start_time": "2023-03-28T03:46:15.865Z"
   },
   {
    "duration": 16,
    "start_time": "2023-03-28T03:46:15.873Z"
   },
   {
    "duration": 10,
    "start_time": "2023-03-28T03:46:15.891Z"
   },
   {
    "duration": 63,
    "start_time": "2023-03-28T03:46:15.903Z"
   },
   {
    "duration": 7,
    "start_time": "2023-03-28T03:46:15.968Z"
   },
   {
    "duration": 24,
    "start_time": "2023-03-28T03:46:15.977Z"
   },
   {
    "duration": 42818,
    "start_time": "2023-03-28T03:46:16.003Z"
   },
   {
    "duration": 2180,
    "start_time": "2023-03-28T03:46:58.822Z"
   },
   {
    "duration": 331,
    "start_time": "2023-03-28T03:47:01.004Z"
   },
   {
    "duration": 274,
    "start_time": "2023-03-28T03:47:01.337Z"
   },
   {
    "duration": 131,
    "start_time": "2023-03-28T03:47:01.613Z"
   },
   {
    "duration": 11,
    "start_time": "2023-03-28T03:47:01.745Z"
   },
   {
    "duration": 33,
    "start_time": "2023-03-28T03:47:01.758Z"
   },
   {
    "duration": 326,
    "start_time": "2023-03-28T03:47:01.793Z"
   },
   {
    "duration": 44269,
    "start_time": "2023-03-28T03:47:31.837Z"
   },
   {
    "duration": 45382,
    "start_time": "2023-03-28T03:48:55.530Z"
   },
   {
    "duration": 43482,
    "start_time": "2023-03-28T03:50:02.993Z"
   },
   {
    "duration": 335,
    "start_time": "2023-03-28T03:51:57.460Z"
   },
   {
    "duration": 299,
    "start_time": "2023-03-28T03:52:15.044Z"
   },
   {
    "duration": 44635,
    "start_time": "2023-03-28T03:54:53.031Z"
   },
   {
    "duration": 42938,
    "start_time": "2023-03-28T03:56:01.873Z"
   },
   {
    "duration": 38,
    "start_time": "2023-03-28T04:01:05.074Z"
   },
   {
    "duration": 1744,
    "start_time": "2023-03-28T04:01:33.722Z"
   },
   {
    "duration": 171,
    "start_time": "2023-03-28T04:01:35.468Z"
   },
   {
    "duration": 4,
    "start_time": "2023-03-28T04:01:35.640Z"
   },
   {
    "duration": 24,
    "start_time": "2023-03-28T04:01:35.645Z"
   },
   {
    "duration": 11,
    "start_time": "2023-03-28T04:01:35.671Z"
   },
   {
    "duration": 30,
    "start_time": "2023-03-28T04:01:35.683Z"
   },
   {
    "duration": 20,
    "start_time": "2023-03-28T04:01:35.715Z"
   },
   {
    "duration": 13,
    "start_time": "2023-03-28T04:01:35.738Z"
   },
   {
    "duration": 7,
    "start_time": "2023-03-28T04:01:35.753Z"
   },
   {
    "duration": 8,
    "start_time": "2023-03-28T04:01:35.762Z"
   },
   {
    "duration": 11,
    "start_time": "2023-03-28T04:01:35.771Z"
   },
   {
    "duration": 90,
    "start_time": "2023-03-28T04:01:35.784Z"
   },
   {
    "duration": 8,
    "start_time": "2023-03-28T04:01:35.876Z"
   },
   {
    "duration": 11,
    "start_time": "2023-03-28T04:01:35.888Z"
   },
   {
    "duration": 43790,
    "start_time": "2023-03-28T04:01:35.900Z"
   },
   {
    "duration": 138,
    "start_time": "2023-03-28T04:02:19.691Z"
   },
   {
    "duration": 11,
    "start_time": "2023-03-28T04:02:19.835Z"
   },
   {
    "duration": 15,
    "start_time": "2023-03-28T04:02:19.847Z"
   },
   {
    "duration": 282,
    "start_time": "2023-03-28T04:02:19.864Z"
   },
   {
    "duration": 60,
    "start_time": "2023-03-28T04:02:41.675Z"
   },
   {
    "duration": 58,
    "start_time": "2023-03-28T04:02:51.896Z"
   },
   {
    "duration": 354,
    "start_time": "2023-03-28T04:03:34.344Z"
   },
   {
    "duration": 3,
    "start_time": "2023-03-28T04:21:25.336Z"
   },
   {
    "duration": 4,
    "start_time": "2023-03-28T04:26:00.907Z"
   },
   {
    "duration": 111,
    "start_time": "2023-03-28T04:28:02.401Z"
   },
   {
    "duration": 20,
    "start_time": "2023-03-28T04:28:27.460Z"
   },
   {
    "duration": 20,
    "start_time": "2023-03-28T04:29:04.063Z"
   },
   {
    "duration": 19,
    "start_time": "2023-03-28T04:29:30.128Z"
   },
   {
    "duration": 18,
    "start_time": "2023-03-28T04:33:01.740Z"
   },
   {
    "duration": 17,
    "start_time": "2023-03-28T04:33:11.554Z"
   },
   {
    "duration": 72,
    "start_time": "2023-03-28T04:38:36.648Z"
   },
   {
    "duration": 160,
    "start_time": "2023-03-28T04:39:29.534Z"
   },
   {
    "duration": 316,
    "start_time": "2023-03-28T04:40:40.665Z"
   },
   {
    "duration": 320,
    "start_time": "2023-03-28T04:41:13.528Z"
   },
   {
    "duration": 305,
    "start_time": "2023-03-28T04:41:21.834Z"
   },
   {
    "duration": 319,
    "start_time": "2023-03-28T04:44:27.073Z"
   },
   {
    "duration": 339,
    "start_time": "2023-03-28T04:46:59.558Z"
   },
   {
    "duration": 349,
    "start_time": "2023-03-28T04:53:00.495Z"
   },
   {
    "duration": 23,
    "start_time": "2023-03-28T04:54:10.973Z"
   },
   {
    "duration": 310,
    "start_time": "2023-03-28T04:54:21.961Z"
   },
   {
    "duration": 318,
    "start_time": "2023-03-28T04:55:02.708Z"
   },
   {
    "duration": 299,
    "start_time": "2023-03-28T04:55:28.559Z"
   },
   {
    "duration": 8,
    "start_time": "2023-03-28T04:55:38.717Z"
   },
   {
    "duration": 13,
    "start_time": "2023-03-28T04:55:53.834Z"
   },
   {
    "duration": 1492,
    "start_time": "2023-03-28T04:56:03.216Z"
   },
   {
    "duration": 70,
    "start_time": "2023-03-28T04:56:04.711Z"
   },
   {
    "duration": 3,
    "start_time": "2023-03-28T04:56:04.783Z"
   },
   {
    "duration": 23,
    "start_time": "2023-03-28T04:56:04.788Z"
   },
   {
    "duration": 18,
    "start_time": "2023-03-28T04:56:04.814Z"
   },
   {
    "duration": 58,
    "start_time": "2023-03-28T04:56:04.834Z"
   },
   {
    "duration": 5,
    "start_time": "2023-03-28T04:56:04.894Z"
   },
   {
    "duration": 25,
    "start_time": "2023-03-28T04:56:04.900Z"
   },
   {
    "duration": 11,
    "start_time": "2023-03-28T04:56:04.927Z"
   },
   {
    "duration": 14,
    "start_time": "2023-03-28T04:56:04.940Z"
   },
   {
    "duration": 25,
    "start_time": "2023-03-28T04:56:04.956Z"
   },
   {
    "duration": 374,
    "start_time": "2023-03-28T04:56:04.983Z"
   },
   {
    "duration": 11,
    "start_time": "2023-03-28T04:56:05.360Z"
   },
   {
    "duration": 17,
    "start_time": "2023-03-28T04:56:05.374Z"
   },
   {
    "duration": 42690,
    "start_time": "2023-03-28T04:56:05.393Z"
   },
   {
    "duration": 130,
    "start_time": "2023-03-28T04:56:48.084Z"
   },
   {
    "duration": 21,
    "start_time": "2023-03-28T04:56:48.216Z"
   },
   {
    "duration": 9,
    "start_time": "2023-03-28T04:56:48.238Z"
   },
   {
    "duration": 296,
    "start_time": "2023-03-28T04:56:48.249Z"
   },
   {
    "duration": 9,
    "start_time": "2023-03-28T04:57:23.050Z"
   },
   {
    "duration": 11,
    "start_time": "2023-03-28T04:57:35.649Z"
   },
   {
    "duration": 1339,
    "start_time": "2023-03-28T04:58:05.572Z"
   },
   {
    "duration": 70,
    "start_time": "2023-03-28T04:58:06.913Z"
   },
   {
    "duration": 4,
    "start_time": "2023-03-28T04:58:06.984Z"
   },
   {
    "duration": 27,
    "start_time": "2023-03-28T04:58:06.990Z"
   },
   {
    "duration": 13,
    "start_time": "2023-03-28T04:58:07.020Z"
   },
   {
    "duration": 25,
    "start_time": "2023-03-28T04:58:07.035Z"
   },
   {
    "duration": 12,
    "start_time": "2023-03-28T04:58:07.061Z"
   },
   {
    "duration": 10,
    "start_time": "2023-03-28T04:58:07.075Z"
   },
   {
    "duration": 11,
    "start_time": "2023-03-28T04:58:07.087Z"
   },
   {
    "duration": 5,
    "start_time": "2023-03-28T04:58:07.101Z"
   },
   {
    "duration": 27,
    "start_time": "2023-03-28T04:58:07.108Z"
   },
   {
    "duration": 339,
    "start_time": "2023-03-28T04:58:07.138Z"
   },
   {
    "duration": 9,
    "start_time": "2023-03-28T04:58:07.478Z"
   },
   {
    "duration": 43734,
    "start_time": "2023-03-28T04:58:07.489Z"
   },
   {
    "duration": 177,
    "start_time": "2023-03-28T04:58:51.225Z"
   },
   {
    "duration": 12,
    "start_time": "2023-03-28T04:58:51.404Z"
   },
   {
    "duration": 30,
    "start_time": "2023-03-28T04:58:51.418Z"
   },
   {
    "duration": 318,
    "start_time": "2023-03-28T04:58:51.450Z"
   },
   {
    "duration": 298,
    "start_time": "2023-03-28T05:17:19.016Z"
   },
   {
    "duration": 1400,
    "start_time": "2023-03-28T05:17:25.998Z"
   },
   {
    "duration": 69,
    "start_time": "2023-03-28T05:17:27.400Z"
   },
   {
    "duration": 2,
    "start_time": "2023-03-28T05:17:27.471Z"
   },
   {
    "duration": 35,
    "start_time": "2023-03-28T05:17:27.475Z"
   },
   {
    "duration": 46,
    "start_time": "2023-03-28T05:17:27.511Z"
   },
   {
    "duration": 22,
    "start_time": "2023-03-28T05:17:27.559Z"
   },
   {
    "duration": 4,
    "start_time": "2023-03-28T05:17:27.583Z"
   },
   {
    "duration": 15,
    "start_time": "2023-03-28T05:17:27.588Z"
   },
   {
    "duration": 4,
    "start_time": "2023-03-28T05:17:27.605Z"
   },
   {
    "duration": 11,
    "start_time": "2023-03-28T05:17:27.611Z"
   },
   {
    "duration": 15,
    "start_time": "2023-03-28T05:17:27.624Z"
   },
   {
    "duration": 377,
    "start_time": "2023-03-28T05:17:27.640Z"
   },
   {
    "duration": 22,
    "start_time": "2023-03-28T05:17:28.019Z"
   },
   {
    "duration": 46378,
    "start_time": "2023-03-28T05:17:28.044Z"
   },
   {
    "duration": 147,
    "start_time": "2023-03-28T05:18:14.433Z"
   },
   {
    "duration": 11,
    "start_time": "2023-03-28T05:18:14.582Z"
   },
   {
    "duration": 34,
    "start_time": "2023-03-28T05:18:14.594Z"
   },
   {
    "duration": 332,
    "start_time": "2023-03-28T05:18:14.630Z"
   },
   {
    "duration": 110,
    "start_time": "2023-03-28T05:34:08.557Z"
   },
   {
    "duration": 1318,
    "start_time": "2023-03-28T05:34:20.360Z"
   },
   {
    "duration": 64,
    "start_time": "2023-03-28T05:34:21.680Z"
   },
   {
    "duration": 3,
    "start_time": "2023-03-28T05:34:21.746Z"
   },
   {
    "duration": 17,
    "start_time": "2023-03-28T05:34:21.751Z"
   },
   {
    "duration": 11,
    "start_time": "2023-03-28T05:34:21.769Z"
   },
   {
    "duration": 23,
    "start_time": "2023-03-28T05:34:21.782Z"
   },
   {
    "duration": 5,
    "start_time": "2023-03-28T05:34:21.807Z"
   },
   {
    "duration": 26,
    "start_time": "2023-03-28T05:34:21.814Z"
   },
   {
    "duration": 7,
    "start_time": "2023-03-28T05:34:21.841Z"
   },
   {
    "duration": 17,
    "start_time": "2023-03-28T05:34:21.851Z"
   },
   {
    "duration": 19,
    "start_time": "2023-03-28T05:34:21.870Z"
   },
   {
    "duration": 315,
    "start_time": "2023-03-28T05:34:21.891Z"
   },
   {
    "duration": 8,
    "start_time": "2023-03-28T05:34:22.207Z"
   },
   {
    "duration": 43333,
    "start_time": "2023-03-28T05:34:22.217Z"
   },
   {
    "duration": 145,
    "start_time": "2023-03-28T05:35:05.552Z"
   },
   {
    "duration": 11,
    "start_time": "2023-03-28T05:35:05.698Z"
   },
   {
    "duration": 30,
    "start_time": "2023-03-28T05:35:05.711Z"
   },
   {
    "duration": 306,
    "start_time": "2023-03-28T05:35:05.743Z"
   },
   {
    "duration": 106,
    "start_time": "2023-03-28T05:35:06.051Z"
   },
   {
    "duration": 6,
    "start_time": "2023-03-28T05:35:42.396Z"
   }
  ],
  "kernelspec": {
   "display_name": "Python 3 (ipykernel)",
   "language": "python",
   "name": "python3"
  },
  "language_info": {
   "codemirror_mode": {
    "name": "ipython",
    "version": 3
   },
   "file_extension": ".py",
   "mimetype": "text/x-python",
   "name": "python",
   "nbconvert_exporter": "python",
   "pygments_lexer": "ipython3",
   "version": "3.9.13"
  },
  "toc": {
   "base_numbering": 1,
   "nav_menu": {},
   "number_sections": true,
   "sideBar": true,
   "skip_h1_title": true,
   "title_cell": "Table of Contents",
   "title_sidebar": "Contents",
   "toc_cell": false,
   "toc_position": {},
   "toc_section_display": true,
   "toc_window_display": false
  }
 },
 "nbformat": 4,
 "nbformat_minor": 2
}
