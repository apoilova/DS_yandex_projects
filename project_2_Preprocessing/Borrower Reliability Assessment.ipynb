{
 "cells": [
  {
   "cell_type": "markdown",
   "id": "4f11de00",
   "metadata": {
    "deletable": false,
    "editable": false,
    "id": "4f11de00"
   },
   "source": [
    "# Исследование надежности заемщиков"
   ]
  },
  {
   "cell_type": "markdown",
   "id": "f09d6878",
   "metadata": {
    "deletable": false,
    "editable": false,
    "id": "f09d6878"
   },
   "source": [
    "Это первая часть проекта, она будет проверена автоматически. Вторую часть проверит ревьюер. "
   ]
  },
  {
   "cell_type": "markdown",
   "id": "516620ee",
   "metadata": {
    "deletable": false,
    "editable": false,
    "id": "516620ee"
   },
   "source": [
    "## Откройте таблицу и изучите общую информацию о данных"
   ]
  },
  {
   "cell_type": "markdown",
   "id": "76a8a9ce",
   "metadata": {
    "deletable": false,
    "editable": false,
    "id": "76a8a9ce",
    "tags": [
     "start_task"
    ]
   },
   "source": [
    "**Задание 1. Импортируйте библиотеку pandas. Считайте данные из csv-файла в датафрейм и сохраните в переменную `data`. Путь к файлу:**\n",
    "\n",
    "`/datasets/data.csv`"
   ]
  },
  {
   "cell_type": "code",
   "execution_count": 1,
   "id": "fab207d0",
   "metadata": {
    "id": "fab207d0"
   },
   "outputs": [],
   "source": [
    "# импортируйте библиотеку pandas\n",
    "import pandas as pd"
   ]
  },
  {
   "cell_type": "code",
   "execution_count": 2,
   "id": "6c82b607",
   "metadata": {
    "id": "6c82b607"
   },
   "outputs": [],
   "source": [
    "#открываем данные\n",
    "data = pd.read_csv('https://code.s3.yandex.net/datasets/data.csv')"
   ]
  },
  {
   "cell_type": "markdown",
   "id": "08bbb5b3",
   "metadata": {
    "deletable": false,
    "editable": false,
    "id": "08bbb5b3",
    "tags": [
     "start_task"
    ]
   },
   "source": [
    "**Задание 2. Выведите первые 20 строчек датафрейма `data` на экран.**"
   ]
  },
  {
   "cell_type": "code",
   "execution_count": 3,
   "id": "4ff33b36",
   "metadata": {
    "id": "4ff33b36"
   },
   "outputs": [
    {
     "data": {
      "text/html": [
       "<div>\n",
       "<style scoped>\n",
       "    .dataframe tbody tr th:only-of-type {\n",
       "        vertical-align: middle;\n",
       "    }\n",
       "\n",
       "    .dataframe tbody tr th {\n",
       "        vertical-align: top;\n",
       "    }\n",
       "\n",
       "    .dataframe thead th {\n",
       "        text-align: right;\n",
       "    }\n",
       "</style>\n",
       "<table border=\"1\" class=\"dataframe\">\n",
       "  <thead>\n",
       "    <tr style=\"text-align: right;\">\n",
       "      <th></th>\n",
       "      <th>children</th>\n",
       "      <th>days_employed</th>\n",
       "      <th>dob_years</th>\n",
       "      <th>education</th>\n",
       "      <th>education_id</th>\n",
       "      <th>family_status</th>\n",
       "      <th>family_status_id</th>\n",
       "      <th>gender</th>\n",
       "      <th>income_type</th>\n",
       "      <th>debt</th>\n",
       "      <th>total_income</th>\n",
       "      <th>purpose</th>\n",
       "    </tr>\n",
       "  </thead>\n",
       "  <tbody>\n",
       "    <tr>\n",
       "      <th>0</th>\n",
       "      <td>1</td>\n",
       "      <td>-8437.673028</td>\n",
       "      <td>42</td>\n",
       "      <td>высшее</td>\n",
       "      <td>0</td>\n",
       "      <td>женат / замужем</td>\n",
       "      <td>0</td>\n",
       "      <td>F</td>\n",
       "      <td>сотрудник</td>\n",
       "      <td>0</td>\n",
       "      <td>253875.639453</td>\n",
       "      <td>покупка жилья</td>\n",
       "    </tr>\n",
       "    <tr>\n",
       "      <th>1</th>\n",
       "      <td>1</td>\n",
       "      <td>-4024.803754</td>\n",
       "      <td>36</td>\n",
       "      <td>среднее</td>\n",
       "      <td>1</td>\n",
       "      <td>женат / замужем</td>\n",
       "      <td>0</td>\n",
       "      <td>F</td>\n",
       "      <td>сотрудник</td>\n",
       "      <td>0</td>\n",
       "      <td>112080.014102</td>\n",
       "      <td>приобретение автомобиля</td>\n",
       "    </tr>\n",
       "    <tr>\n",
       "      <th>2</th>\n",
       "      <td>0</td>\n",
       "      <td>-5623.422610</td>\n",
       "      <td>33</td>\n",
       "      <td>Среднее</td>\n",
       "      <td>1</td>\n",
       "      <td>женат / замужем</td>\n",
       "      <td>0</td>\n",
       "      <td>M</td>\n",
       "      <td>сотрудник</td>\n",
       "      <td>0</td>\n",
       "      <td>145885.952297</td>\n",
       "      <td>покупка жилья</td>\n",
       "    </tr>\n",
       "    <tr>\n",
       "      <th>3</th>\n",
       "      <td>3</td>\n",
       "      <td>-4124.747207</td>\n",
       "      <td>32</td>\n",
       "      <td>среднее</td>\n",
       "      <td>1</td>\n",
       "      <td>женат / замужем</td>\n",
       "      <td>0</td>\n",
       "      <td>M</td>\n",
       "      <td>сотрудник</td>\n",
       "      <td>0</td>\n",
       "      <td>267628.550329</td>\n",
       "      <td>дополнительное образование</td>\n",
       "    </tr>\n",
       "    <tr>\n",
       "      <th>4</th>\n",
       "      <td>0</td>\n",
       "      <td>340266.072047</td>\n",
       "      <td>53</td>\n",
       "      <td>среднее</td>\n",
       "      <td>1</td>\n",
       "      <td>гражданский брак</td>\n",
       "      <td>1</td>\n",
       "      <td>F</td>\n",
       "      <td>пенсионер</td>\n",
       "      <td>0</td>\n",
       "      <td>158616.077870</td>\n",
       "      <td>сыграть свадьбу</td>\n",
       "    </tr>\n",
       "    <tr>\n",
       "      <th>5</th>\n",
       "      <td>0</td>\n",
       "      <td>-926.185831</td>\n",
       "      <td>27</td>\n",
       "      <td>высшее</td>\n",
       "      <td>0</td>\n",
       "      <td>гражданский брак</td>\n",
       "      <td>1</td>\n",
       "      <td>M</td>\n",
       "      <td>компаньон</td>\n",
       "      <td>0</td>\n",
       "      <td>255763.565419</td>\n",
       "      <td>покупка жилья</td>\n",
       "    </tr>\n",
       "    <tr>\n",
       "      <th>6</th>\n",
       "      <td>0</td>\n",
       "      <td>-2879.202052</td>\n",
       "      <td>43</td>\n",
       "      <td>высшее</td>\n",
       "      <td>0</td>\n",
       "      <td>женат / замужем</td>\n",
       "      <td>0</td>\n",
       "      <td>F</td>\n",
       "      <td>компаньон</td>\n",
       "      <td>0</td>\n",
       "      <td>240525.971920</td>\n",
       "      <td>операции с жильем</td>\n",
       "    </tr>\n",
       "    <tr>\n",
       "      <th>7</th>\n",
       "      <td>0</td>\n",
       "      <td>-152.779569</td>\n",
       "      <td>50</td>\n",
       "      <td>СРЕДНЕЕ</td>\n",
       "      <td>1</td>\n",
       "      <td>женат / замужем</td>\n",
       "      <td>0</td>\n",
       "      <td>M</td>\n",
       "      <td>сотрудник</td>\n",
       "      <td>0</td>\n",
       "      <td>135823.934197</td>\n",
       "      <td>образование</td>\n",
       "    </tr>\n",
       "    <tr>\n",
       "      <th>8</th>\n",
       "      <td>2</td>\n",
       "      <td>-6929.865299</td>\n",
       "      <td>35</td>\n",
       "      <td>ВЫСШЕЕ</td>\n",
       "      <td>0</td>\n",
       "      <td>гражданский брак</td>\n",
       "      <td>1</td>\n",
       "      <td>F</td>\n",
       "      <td>сотрудник</td>\n",
       "      <td>0</td>\n",
       "      <td>95856.832424</td>\n",
       "      <td>на проведение свадьбы</td>\n",
       "    </tr>\n",
       "    <tr>\n",
       "      <th>9</th>\n",
       "      <td>0</td>\n",
       "      <td>-2188.756445</td>\n",
       "      <td>41</td>\n",
       "      <td>среднее</td>\n",
       "      <td>1</td>\n",
       "      <td>женат / замужем</td>\n",
       "      <td>0</td>\n",
       "      <td>M</td>\n",
       "      <td>сотрудник</td>\n",
       "      <td>0</td>\n",
       "      <td>144425.938277</td>\n",
       "      <td>покупка жилья для семьи</td>\n",
       "    </tr>\n",
       "    <tr>\n",
       "      <th>10</th>\n",
       "      <td>2</td>\n",
       "      <td>-4171.483647</td>\n",
       "      <td>36</td>\n",
       "      <td>высшее</td>\n",
       "      <td>0</td>\n",
       "      <td>женат / замужем</td>\n",
       "      <td>0</td>\n",
       "      <td>M</td>\n",
       "      <td>компаньон</td>\n",
       "      <td>0</td>\n",
       "      <td>113943.491460</td>\n",
       "      <td>покупка недвижимости</td>\n",
       "    </tr>\n",
       "    <tr>\n",
       "      <th>11</th>\n",
       "      <td>0</td>\n",
       "      <td>-792.701887</td>\n",
       "      <td>40</td>\n",
       "      <td>среднее</td>\n",
       "      <td>1</td>\n",
       "      <td>женат / замужем</td>\n",
       "      <td>0</td>\n",
       "      <td>F</td>\n",
       "      <td>сотрудник</td>\n",
       "      <td>0</td>\n",
       "      <td>77069.234271</td>\n",
       "      <td>покупка коммерческой недвижимости</td>\n",
       "    </tr>\n",
       "    <tr>\n",
       "      <th>12</th>\n",
       "      <td>0</td>\n",
       "      <td>NaN</td>\n",
       "      <td>65</td>\n",
       "      <td>среднее</td>\n",
       "      <td>1</td>\n",
       "      <td>гражданский брак</td>\n",
       "      <td>1</td>\n",
       "      <td>M</td>\n",
       "      <td>пенсионер</td>\n",
       "      <td>0</td>\n",
       "      <td>NaN</td>\n",
       "      <td>сыграть свадьбу</td>\n",
       "    </tr>\n",
       "    <tr>\n",
       "      <th>13</th>\n",
       "      <td>0</td>\n",
       "      <td>-1846.641941</td>\n",
       "      <td>54</td>\n",
       "      <td>неоконченное высшее</td>\n",
       "      <td>2</td>\n",
       "      <td>женат / замужем</td>\n",
       "      <td>0</td>\n",
       "      <td>F</td>\n",
       "      <td>сотрудник</td>\n",
       "      <td>0</td>\n",
       "      <td>130458.228857</td>\n",
       "      <td>приобретение автомобиля</td>\n",
       "    </tr>\n",
       "    <tr>\n",
       "      <th>14</th>\n",
       "      <td>0</td>\n",
       "      <td>-1844.956182</td>\n",
       "      <td>56</td>\n",
       "      <td>высшее</td>\n",
       "      <td>0</td>\n",
       "      <td>гражданский брак</td>\n",
       "      <td>1</td>\n",
       "      <td>F</td>\n",
       "      <td>компаньон</td>\n",
       "      <td>1</td>\n",
       "      <td>165127.911772</td>\n",
       "      <td>покупка жилой недвижимости</td>\n",
       "    </tr>\n",
       "    <tr>\n",
       "      <th>15</th>\n",
       "      <td>1</td>\n",
       "      <td>-972.364419</td>\n",
       "      <td>26</td>\n",
       "      <td>среднее</td>\n",
       "      <td>1</td>\n",
       "      <td>женат / замужем</td>\n",
       "      <td>0</td>\n",
       "      <td>F</td>\n",
       "      <td>сотрудник</td>\n",
       "      <td>0</td>\n",
       "      <td>116820.904450</td>\n",
       "      <td>строительство собственной недвижимости</td>\n",
       "    </tr>\n",
       "    <tr>\n",
       "      <th>16</th>\n",
       "      <td>0</td>\n",
       "      <td>-1719.934226</td>\n",
       "      <td>35</td>\n",
       "      <td>среднее</td>\n",
       "      <td>1</td>\n",
       "      <td>женат / замужем</td>\n",
       "      <td>0</td>\n",
       "      <td>F</td>\n",
       "      <td>сотрудник</td>\n",
       "      <td>0</td>\n",
       "      <td>289202.704229</td>\n",
       "      <td>недвижимость</td>\n",
       "    </tr>\n",
       "    <tr>\n",
       "      <th>17</th>\n",
       "      <td>0</td>\n",
       "      <td>-2369.999720</td>\n",
       "      <td>33</td>\n",
       "      <td>высшее</td>\n",
       "      <td>0</td>\n",
       "      <td>гражданский брак</td>\n",
       "      <td>1</td>\n",
       "      <td>M</td>\n",
       "      <td>сотрудник</td>\n",
       "      <td>0</td>\n",
       "      <td>90410.586745</td>\n",
       "      <td>строительство недвижимости</td>\n",
       "    </tr>\n",
       "    <tr>\n",
       "      <th>18</th>\n",
       "      <td>0</td>\n",
       "      <td>400281.136913</td>\n",
       "      <td>53</td>\n",
       "      <td>среднее</td>\n",
       "      <td>1</td>\n",
       "      <td>вдовец / вдова</td>\n",
       "      <td>2</td>\n",
       "      <td>F</td>\n",
       "      <td>пенсионер</td>\n",
       "      <td>0</td>\n",
       "      <td>56823.777243</td>\n",
       "      <td>на покупку подержанного автомобиля</td>\n",
       "    </tr>\n",
       "    <tr>\n",
       "      <th>19</th>\n",
       "      <td>0</td>\n",
       "      <td>-10038.818549</td>\n",
       "      <td>48</td>\n",
       "      <td>СРЕДНЕЕ</td>\n",
       "      <td>1</td>\n",
       "      <td>в разводе</td>\n",
       "      <td>3</td>\n",
       "      <td>F</td>\n",
       "      <td>сотрудник</td>\n",
       "      <td>0</td>\n",
       "      <td>242831.107982</td>\n",
       "      <td>на покупку своего автомобиля</td>\n",
       "    </tr>\n",
       "  </tbody>\n",
       "</table>\n",
       "</div>"
      ],
      "text/plain": [
       "    children  days_employed  dob_years            education  education_id  \\\n",
       "0          1   -8437.673028         42               высшее             0   \n",
       "1          1   -4024.803754         36              среднее             1   \n",
       "2          0   -5623.422610         33              Среднее             1   \n",
       "3          3   -4124.747207         32              среднее             1   \n",
       "4          0  340266.072047         53              среднее             1   \n",
       "5          0    -926.185831         27               высшее             0   \n",
       "6          0   -2879.202052         43               высшее             0   \n",
       "7          0    -152.779569         50              СРЕДНЕЕ             1   \n",
       "8          2   -6929.865299         35               ВЫСШЕЕ             0   \n",
       "9          0   -2188.756445         41              среднее             1   \n",
       "10         2   -4171.483647         36               высшее             0   \n",
       "11         0    -792.701887         40              среднее             1   \n",
       "12         0            NaN         65              среднее             1   \n",
       "13         0   -1846.641941         54  неоконченное высшее             2   \n",
       "14         0   -1844.956182         56               высшее             0   \n",
       "15         1    -972.364419         26              среднее             1   \n",
       "16         0   -1719.934226         35              среднее             1   \n",
       "17         0   -2369.999720         33               высшее             0   \n",
       "18         0  400281.136913         53              среднее             1   \n",
       "19         0  -10038.818549         48              СРЕДНЕЕ             1   \n",
       "\n",
       "       family_status  family_status_id gender income_type  debt  \\\n",
       "0    женат / замужем                 0      F   сотрудник     0   \n",
       "1    женат / замужем                 0      F   сотрудник     0   \n",
       "2    женат / замужем                 0      M   сотрудник     0   \n",
       "3    женат / замужем                 0      M   сотрудник     0   \n",
       "4   гражданский брак                 1      F   пенсионер     0   \n",
       "5   гражданский брак                 1      M   компаньон     0   \n",
       "6    женат / замужем                 0      F   компаньон     0   \n",
       "7    женат / замужем                 0      M   сотрудник     0   \n",
       "8   гражданский брак                 1      F   сотрудник     0   \n",
       "9    женат / замужем                 0      M   сотрудник     0   \n",
       "10   женат / замужем                 0      M   компаньон     0   \n",
       "11   женат / замужем                 0      F   сотрудник     0   \n",
       "12  гражданский брак                 1      M   пенсионер     0   \n",
       "13   женат / замужем                 0      F   сотрудник     0   \n",
       "14  гражданский брак                 1      F   компаньон     1   \n",
       "15   женат / замужем                 0      F   сотрудник     0   \n",
       "16   женат / замужем                 0      F   сотрудник     0   \n",
       "17  гражданский брак                 1      M   сотрудник     0   \n",
       "18    вдовец / вдова                 2      F   пенсионер     0   \n",
       "19         в разводе                 3      F   сотрудник     0   \n",
       "\n",
       "     total_income                                 purpose  \n",
       "0   253875.639453                           покупка жилья  \n",
       "1   112080.014102                 приобретение автомобиля  \n",
       "2   145885.952297                           покупка жилья  \n",
       "3   267628.550329              дополнительное образование  \n",
       "4   158616.077870                         сыграть свадьбу  \n",
       "5   255763.565419                           покупка жилья  \n",
       "6   240525.971920                       операции с жильем  \n",
       "7   135823.934197                             образование  \n",
       "8    95856.832424                   на проведение свадьбы  \n",
       "9   144425.938277                 покупка жилья для семьи  \n",
       "10  113943.491460                    покупка недвижимости  \n",
       "11   77069.234271       покупка коммерческой недвижимости  \n",
       "12            NaN                         сыграть свадьбу  \n",
       "13  130458.228857                 приобретение автомобиля  \n",
       "14  165127.911772              покупка жилой недвижимости  \n",
       "15  116820.904450  строительство собственной недвижимости  \n",
       "16  289202.704229                            недвижимость  \n",
       "17   90410.586745              строительство недвижимости  \n",
       "18   56823.777243      на покупку подержанного автомобиля  \n",
       "19  242831.107982            на покупку своего автомобиля  "
      ]
     },
     "execution_count": 3,
     "metadata": {},
     "output_type": "execute_result"
    }
   ],
   "source": [
    "data.head(20)"
   ]
  },
  {
   "cell_type": "markdown",
   "id": "c8f382ae",
   "metadata": {
    "deletable": false,
    "editable": false,
    "id": "c8f382ae",
    "tags": [
     "start_task"
    ]
   },
   "source": [
    "**Задание 3. Выведите основную информацию о датафрейме с помощью метода `info()`.**"
   ]
  },
  {
   "cell_type": "code",
   "execution_count": 4,
   "id": "e1ed9908",
   "metadata": {
    "id": "e1ed9908"
   },
   "outputs": [
    {
     "name": "stdout",
     "output_type": "stream",
     "text": [
      "<class 'pandas.core.frame.DataFrame'>\n",
      "RangeIndex: 21525 entries, 0 to 21524\n",
      "Data columns (total 12 columns):\n",
      " #   Column            Non-Null Count  Dtype  \n",
      "---  ------            --------------  -----  \n",
      " 0   children          21525 non-null  int64  \n",
      " 1   days_employed     19351 non-null  float64\n",
      " 2   dob_years         21525 non-null  int64  \n",
      " 3   education         21525 non-null  object \n",
      " 4   education_id      21525 non-null  int64  \n",
      " 5   family_status     21525 non-null  object \n",
      " 6   family_status_id  21525 non-null  int64  \n",
      " 7   gender            21525 non-null  object \n",
      " 8   income_type       21525 non-null  object \n",
      " 9   debt              21525 non-null  int64  \n",
      " 10  total_income      19351 non-null  float64\n",
      " 11  purpose           21525 non-null  object \n",
      "dtypes: float64(2), int64(5), object(5)\n",
      "memory usage: 2.0+ MB\n"
     ]
    }
   ],
   "source": [
    "data.info()"
   ]
  },
  {
   "cell_type": "markdown",
   "id": "f969a1cd",
   "metadata": {
    "deletable": false,
    "editable": false,
    "id": "f969a1cd"
   },
   "source": [
    "## Предобработка данных"
   ]
  },
  {
   "cell_type": "markdown",
   "id": "7283e864",
   "metadata": {
    "deletable": false,
    "editable": false,
    "id": "7283e864"
   },
   "source": [
    "### Удаление пропусков"
   ]
  },
  {
   "cell_type": "markdown",
   "id": "c9a0745e",
   "metadata": {
    "deletable": false,
    "editable": false,
    "id": "c9a0745e",
    "tags": [
     "start_task"
    ]
   },
   "source": [
    "**Задание 4. Выведите количество пропущенных значений для каждого столбца. Используйте комбинацию двух методов.**"
   ]
  },
  {
   "cell_type": "code",
   "execution_count": 5,
   "id": "b7a096e1",
   "metadata": {
    "id": "b7a096e1"
   },
   "outputs": [
    {
     "data": {
      "text/plain": [
       "children               0\n",
       "days_employed       2174\n",
       "dob_years              0\n",
       "education              0\n",
       "education_id           0\n",
       "family_status          0\n",
       "family_status_id       0\n",
       "gender                 0\n",
       "income_type            0\n",
       "debt                   0\n",
       "total_income        2174\n",
       "purpose                0\n",
       "dtype: int64"
      ]
     },
     "execution_count": 5,
     "metadata": {},
     "output_type": "execute_result"
    }
   ],
   "source": [
    "data.isna().sum()"
   ]
  },
  {
   "cell_type": "markdown",
   "id": "c2578616",
   "metadata": {
    "deletable": false,
    "editable": false,
    "id": "c2578616",
    "tags": [
     "start_task"
    ]
   },
   "source": [
    "**Задание 5. В двух столбцах есть пропущенные значения. Один из них — `days_employed`. Пропуски в этом столбце вы обработаете на следующем этапе. Другой столбец с пропущенными значениями — `total_income` — хранит данные о доходах. На сумму дохода сильнее всего влияет тип занятости, поэтому заполнить пропуски в этом столбце нужно медианным значением по каждому типу из столбца `income_type`. Например, у человека с типом занятости `сотрудник` пропуск в столбце `total_income` должен быть заполнен медианным доходом среди всех записей с тем же типом.**"
   ]
  },
  {
   "cell_type": "code",
   "execution_count": 6,
   "id": "e8afc4bc",
   "metadata": {
    "id": "e8afc4bc"
   },
   "outputs": [],
   "source": [
    "#перебрать каждый тип занятости в наборе уникальных значений столбца income_type\n",
    "for type in data['income_type'].unique():\n",
    "    # на каждом шаге цикла с помощью атрибута loc выбрать строки,\n",
    "    # в которых в income_type текущий тип занятости (type) и есть пропуски в total_income\n",
    "    # записать в них медианное значение total_income среди строк с текущим типом занятости (income_type)\n",
    "    data.loc[(data['income_type'] == type) & (data['total_income'].isna()), 'total_income'] = \\\n",
    "    data.loc[(data['income_type'] == type), 'total_income'].median()"
   ]
  },
  {
   "cell_type": "markdown",
   "id": "ae986d46",
   "metadata": {
    "deletable": false,
    "editable": false,
    "id": "ae986d46"
   },
   "source": [
    "### Обработка аномальных значений"
   ]
  },
  {
   "cell_type": "markdown",
   "id": "b049cbae",
   "metadata": {
    "deletable": false,
    "editable": false,
    "id": "b049cbae",
    "tags": [
     "start_task"
    ]
   },
   "source": [
    "**Задание 6. В данных могут встречаться артефакты (аномалии) — значения, которые не отражают действительность и появились по какой-то ошибке. Таким артефактом будет отрицательное количество дней трудового стажа в столбце `days_employed`. Для реальных данных это нормально. Обработайте значения в этом столбце: замените все отрицательные значения положительными с помощью метода `abs()`.**"
   ]
  },
  {
   "cell_type": "code",
   "execution_count": 7,
   "id": "187779b0",
   "metadata": {
    "id": "187779b0"
   },
   "outputs": [
    {
     "data": {
      "text/plain": [
       "0          8437.673028\n",
       "1          4024.803754\n",
       "2          5623.422610\n",
       "3          4124.747207\n",
       "4        340266.072047\n",
       "             ...      \n",
       "21520      4529.316663\n",
       "21521    343937.404131\n",
       "21522      2113.346888\n",
       "21523      3112.481705\n",
       "21524      1984.507589\n",
       "Name: days_employed, Length: 21525, dtype: float64"
      ]
     },
     "execution_count": 7,
     "metadata": {},
     "output_type": "execute_result"
    }
   ],
   "source": [
    "data['days_employed'] = data['days_employed'].abs()\n",
    "data['days_employed']"
   ]
  },
  {
   "cell_type": "markdown",
   "id": "a13054c2",
   "metadata": {
    "deletable": false,
    "editable": false,
    "id": "a13054c2",
    "tags": [
     "start_task"
    ]
   },
   "source": [
    "**Задание 7. Для каждого типа занятости выведите медианное значение трудового стажа `days_employed` в днях.**"
   ]
  },
  {
   "cell_type": "code",
   "execution_count": 8,
   "id": "f3f5810c",
   "metadata": {
    "id": "f3f5810c"
   },
   "outputs": [
    {
     "data": {
      "text/plain": [
       "income_type\n",
       "безработный        366413.652744\n",
       "в декрете            3296.759962\n",
       "госслужащий          2689.368353\n",
       "компаньон            1547.382223\n",
       "пенсионер          365213.306266\n",
       "предприниматель       520.848083\n",
       "сотрудник            1574.202821\n",
       "студент               578.751554\n",
       "Name: days_employed, dtype: float64"
      ]
     },
     "execution_count": 8,
     "metadata": {},
     "output_type": "execute_result"
    }
   ],
   "source": [
    "data.groupby('income_type')['days_employed'].median()"
   ]
  },
  {
   "cell_type": "markdown",
   "id": "dbc3168c",
   "metadata": {
    "deletable": false,
    "editable": false,
    "id": "dbc3168c"
   },
   "source": [
    "У двух типов (безработные и пенсионеры) получатся аномально большие значения. Исправить такие значения сложно, поэтому оставьте их как есть."
   ]
  },
  {
   "cell_type": "markdown",
   "id": "ff4378c2",
   "metadata": {
    "deletable": false,
    "editable": false,
    "id": "ff4378c2",
    "tags": [
     "start_task"
    ]
   },
   "source": [
    "**Задание 8. Выведите перечень уникальных значений столбца `children`.**"
   ]
  },
  {
   "cell_type": "code",
   "execution_count": 9,
   "id": "9bd0c232",
   "metadata": {
    "id": "9bd0c232"
   },
   "outputs": [
    {
     "data": {
      "text/plain": [
       "array([ 1,  0,  3,  2, -1,  4, 20,  5], dtype=int64)"
      ]
     },
     "execution_count": 9,
     "metadata": {},
     "output_type": "execute_result"
    }
   ],
   "source": [
    "data['children'].unique()"
   ]
  },
  {
   "cell_type": "markdown",
   "id": "8e911990",
   "metadata": {
    "deletable": false,
    "editable": false,
    "id": "8e911990",
    "tags": [
     "start_task"
    ]
   },
   "source": [
    "**Задание 9. В столбце `children` есть два аномальных значения. Удалите строки, в которых встречаются такие аномальные значения из датафрейма `data`.**"
   ]
  },
  {
   "cell_type": "code",
   "execution_count": 10,
   "id": "6d5ba289",
   "metadata": {
    "id": "6d5ba289"
   },
   "outputs": [],
   "source": [
    "data = data[(data['children'] != 20) & (data['children'] != -1)]"
   ]
  },
  {
   "cell_type": "markdown",
   "id": "18d77455",
   "metadata": {
    "deletable": false,
    "editable": false,
    "id": "18d77455",
    "tags": [
     "start_task"
    ]
   },
   "source": [
    "**Задание 10. Ещё раз выведите перечень уникальных значений столбца `children`, чтобы убедиться, что артефакты удалены.**"
   ]
  },
  {
   "cell_type": "code",
   "execution_count": 11,
   "id": "2c5fa92c",
   "metadata": {
    "id": "2c5fa92c"
   },
   "outputs": [
    {
     "data": {
      "text/plain": [
       "array([1, 0, 3, 2, 4, 5], dtype=int64)"
      ]
     },
     "execution_count": 11,
     "metadata": {},
     "output_type": "execute_result"
    }
   ],
   "source": [
    "data['children'].unique()"
   ]
  },
  {
   "cell_type": "markdown",
   "id": "0ec07dee",
   "metadata": {
    "deletable": false,
    "editable": false,
    "id": "0ec07dee"
   },
   "source": [
    "### Удаление пропусков (продолжение)"
   ]
  },
  {
   "cell_type": "markdown",
   "id": "0fc3ae3f",
   "metadata": {
    "deletable": false,
    "editable": false,
    "id": "0fc3ae3f",
    "tags": [
     "start_task"
    ]
   },
   "source": [
    "**Задание 11. Заполните пропуски в столбце `days_employed` медианными значениями по каждому типу занятости `income_type`.**"
   ]
  },
  {
   "cell_type": "code",
   "execution_count": 12,
   "id": "e2aea7ac",
   "metadata": {
    "id": "e2aea7ac"
   },
   "outputs": [],
   "source": [
    "# ваш код здесь\n",
    "for type in data['income_type'].unique():\n",
    "    data.loc[(data['income_type'] == type) & (data['days_employed'].isna()), 'days_employed'] = \\\n",
    "    data.loc[(data['income_type'] == type), 'days_employed'].median()"
   ]
  },
  {
   "cell_type": "markdown",
   "id": "97b0b795",
   "metadata": {
    "deletable": false,
    "editable": false,
    "id": "97b0b795",
    "tags": [
     "start_task"
    ]
   },
   "source": [
    "**Задание 12. Убедитесь, что все пропуски заполнены. Проверьте себя и ещё раз выведите количество пропущенных значений для каждого столбца с помощью двух методов.**"
   ]
  },
  {
   "cell_type": "code",
   "execution_count": 13,
   "id": "79632a21",
   "metadata": {
    "id": "79632a21"
   },
   "outputs": [
    {
     "data": {
      "text/plain": [
       "children            0\n",
       "days_employed       0\n",
       "dob_years           0\n",
       "education           0\n",
       "education_id        0\n",
       "family_status       0\n",
       "family_status_id    0\n",
       "gender              0\n",
       "income_type         0\n",
       "debt                0\n",
       "total_income        0\n",
       "purpose             0\n",
       "dtype: int64"
      ]
     },
     "execution_count": 13,
     "metadata": {},
     "output_type": "execute_result"
    }
   ],
   "source": [
    "data.isna().sum()"
   ]
  },
  {
   "cell_type": "markdown",
   "id": "bd4aeb20",
   "metadata": {
    "deletable": false,
    "editable": false,
    "id": "bd4aeb20"
   },
   "source": [
    "### Изменение типов данных"
   ]
  },
  {
   "cell_type": "markdown",
   "id": "963bfa58",
   "metadata": {
    "deletable": false,
    "editable": false,
    "id": "963bfa58",
    "tags": [
     "start_task"
    ]
   },
   "source": [
    "**Задание 13. Замените вещественный тип данных в столбце `total_income` на целочисленный с помощью метода `astype()`.**"
   ]
  },
  {
   "cell_type": "code",
   "execution_count": 14,
   "id": "73da6ea0",
   "metadata": {
    "id": "73da6ea0"
   },
   "outputs": [],
   "source": [
    "data['total_income'] = data['total_income'].astype('int')"
   ]
  },
  {
   "cell_type": "markdown",
   "id": "d290239e",
   "metadata": {
    "deletable": false,
    "editable": false,
    "id": "d290239e"
   },
   "source": [
    "### Обработка дубликатов"
   ]
  },
  {
   "cell_type": "markdown",
   "id": "1b5844fd",
   "metadata": {
    "deletable": false,
    "editable": false,
    "id": "1b5844fd",
    "tags": [
     "start_task"
    ]
   },
   "source": [
    "**Задание 14. Обработайте неявные дубликаты в столбце `education`. В этом столбце есть одни и те же значения, но записанные по-разному: с использованием заглавных и строчных букв. Приведите их к нижнему регистру.**"
   ]
  },
  {
   "cell_type": "code",
   "execution_count": 15,
   "id": "3f2504b3",
   "metadata": {
    "id": "3f2504b3"
   },
   "outputs": [],
   "source": [
    "data['education'] = data['education'].str.lower()"
   ]
  },
  {
   "cell_type": "markdown",
   "id": "4c22acbc",
   "metadata": {
    "deletable": false,
    "editable": false,
    "id": "4c22acbc",
    "tags": [
     "start_task"
    ]
   },
   "source": [
    "**Задание 15. Выведите на экран количество строк-дубликатов в данных. Если такие строки присутствуют, удалите их.**"
   ]
  },
  {
   "cell_type": "code",
   "execution_count": 16,
   "id": "d34a4325",
   "metadata": {
    "id": "d34a4325"
   },
   "outputs": [
    {
     "data": {
      "text/plain": [
       "71"
      ]
     },
     "execution_count": 16,
     "metadata": {},
     "output_type": "execute_result"
    }
   ],
   "source": [
    "# посчитайте дубликаты\n",
    "data.duplicated().sum()"
   ]
  },
  {
   "cell_type": "code",
   "execution_count": 17,
   "id": "6e1a6499",
   "metadata": {
    "id": "6e1a6499"
   },
   "outputs": [],
   "source": [
    "# удалите дубликаты\n",
    "data = data.drop_duplicates()"
   ]
  },
  {
   "cell_type": "markdown",
   "id": "e5686ccc",
   "metadata": {
    "deletable": false,
    "editable": false,
    "id": "e5686ccc"
   },
   "source": [
    "### Категоризация данных"
   ]
  },
  {
   "cell_type": "markdown",
   "id": "636e9acd",
   "metadata": {
    "deletable": false,
    "editable": false,
    "id": "636e9acd",
    "tags": [
     "start_task"
    ]
   },
   "source": [
    "**Задание 16. На основании диапазонов, указанных ниже, создайте в датафрейме `data` столбец `total_income_category` с категориями:**\n",
    "\n",
    "- 0–30000 — `'E'`;\n",
    "- 30001–50000 — `'D'`;\n",
    "- 50001–200000 — `'C'`;\n",
    "- 200001–1000000 — `'B'`;\n",
    "- 1000001 и выше — `'A'`.\n",
    "\n",
    "\n",
    "**Например, кредитополучателю с доходом 25000 нужно назначить категорию `'E'`, а клиенту, получающему 235000, — `'B'`. Используйте собственную функцию с именем `categorize_income()` и метод `apply()`.**"
   ]
  },
  {
   "cell_type": "code",
   "execution_count": 18,
   "id": "880a77e5",
   "metadata": {
    "id": "880a77e5"
   },
   "outputs": [],
   "source": [
    "# создайте функцию categorize_income()\n",
    "def categorize_income(row):\n",
    "    total_income = row['total_income']\n",
    "    if total_income <= 30000:\n",
    "        return 'E'\n",
    "    if 30000 < total_income <=50000:\n",
    "        return 'D'\n",
    "    if 50000 < total_income <=200000:\n",
    "        return 'C'\n",
    "    if 200000 < total_income <=1000000:\n",
    "        return 'B'\n",
    "    if total_income > 1000000:\n",
    "        return 'A'"
   ]
  },
  {
   "cell_type": "code",
   "execution_count": 19,
   "id": "6f25f161",
   "metadata": {
    "id": "6f25f161"
   },
   "outputs": [],
   "source": [
    "# примените функцию методом apply()\n",
    "data['total_income_category'] = data.apply(categorize_income, axis=1)"
   ]
  },
  {
   "cell_type": "markdown",
   "id": "3363b685",
   "metadata": {
    "deletable": false,
    "editable": false,
    "id": "3363b685",
    "tags": [
     "start_task"
    ]
   },
   "source": [
    "**Задание 17. Выведите на экран перечень уникальных целей взятия кредита из столбца `purpose`.**"
   ]
  },
  {
   "cell_type": "code",
   "execution_count": 20,
   "id": "e59f2c15",
   "metadata": {
    "id": "e59f2c15"
   },
   "outputs": [
    {
     "data": {
      "text/plain": [
       "array(['покупка жилья', 'приобретение автомобиля',\n",
       "       'дополнительное образование', 'сыграть свадьбу',\n",
       "       'операции с жильем', 'образование', 'на проведение свадьбы',\n",
       "       'покупка жилья для семьи', 'покупка недвижимости',\n",
       "       'покупка коммерческой недвижимости', 'покупка жилой недвижимости',\n",
       "       'строительство собственной недвижимости', 'недвижимость',\n",
       "       'строительство недвижимости', 'на покупку подержанного автомобиля',\n",
       "       'на покупку своего автомобиля',\n",
       "       'операции с коммерческой недвижимостью',\n",
       "       'строительство жилой недвижимости', 'жилье',\n",
       "       'операции со своей недвижимостью', 'автомобили',\n",
       "       'заняться образованием', 'сделка с подержанным автомобилем',\n",
       "       'получение образования', 'автомобиль', 'свадьба',\n",
       "       'получение дополнительного образования', 'покупка своего жилья',\n",
       "       'операции с недвижимостью', 'получение высшего образования',\n",
       "       'свой автомобиль', 'сделка с автомобилем',\n",
       "       'профильное образование', 'высшее образование',\n",
       "       'покупка жилья для сдачи', 'на покупку автомобиля', 'ремонт жилью',\n",
       "       'заняться высшим образованием'], dtype=object)"
      ]
     },
     "execution_count": 20,
     "metadata": {},
     "output_type": "execute_result"
    }
   ],
   "source": [
    "data['purpose'].unique()"
   ]
  },
  {
   "cell_type": "markdown",
   "id": "bb33e847",
   "metadata": {
    "deletable": false,
    "editable": false,
    "id": "bb33e847",
    "tags": [
     "start_task"
    ]
   },
   "source": [
    "**Задание 18. Создайте функцию, которая на основании данных из столбца `purpose` сформирует новый столбец `purpose_category`, в который войдут следующие категории:**\n",
    "\n",
    "- `'операции с автомобилем'`,\n",
    "- `'операции с недвижимостью'`,\n",
    "- `'проведение свадьбы'`,\n",
    "- `'получение образования'`.\n",
    "\n",
    "**Например, если в столбце `purpose` находится подстрока `'на покупку автомобиля'`, то в столбце `purpose_category` должна появиться строка `'операции с автомобилем'`.**\n",
    "\n",
    "**Используйте собственную функцию с именем `categorize_purpose()` и метод `apply()`. Изучите данные в столбце `purpose` и определите, какие подстроки помогут вам правильно определить категорию.**"
   ]
  },
  {
   "cell_type": "code",
   "execution_count": 21,
   "id": "63909b83",
   "metadata": {
    "id": "63909b83"
   },
   "outputs": [],
   "source": [
    "# создайте функцию categorize_purpose()\n",
    "def categorize_purpose(row):\n",
    "    purpose = row['purpose']\n",
    "    if 'образован' in purpose:\n",
    "        return 'получение образования'\n",
    "    if 'свадьб' in purpose:\n",
    "        return 'проведение свадьбы'\n",
    "    if 'авто' in purpose:\n",
    "        return 'операции с автомобилем'\n",
    "    if 'жиль' or 'недвиж' in purpose:\n",
    "        return 'операции с недвижимостью'"
   ]
  },
  {
   "cell_type": "code",
   "execution_count": 22,
   "id": "7cb4a81d",
   "metadata": {
    "id": "7cb4a81d"
   },
   "outputs": [],
   "source": [
    "# примените функцию методом apply()\n",
    "data['purpose_category'] = data.apply(categorize_purpose, axis=1)"
   ]
  },
  {
   "cell_type": "code",
   "execution_count": 23,
   "id": "7667fe99",
   "metadata": {
    "scrolled": true
   },
   "outputs": [
    {
     "data": {
      "text/html": [
       "<div>\n",
       "<style scoped>\n",
       "    .dataframe tbody tr th:only-of-type {\n",
       "        vertical-align: middle;\n",
       "    }\n",
       "\n",
       "    .dataframe tbody tr th {\n",
       "        vertical-align: top;\n",
       "    }\n",
       "\n",
       "    .dataframe thead th {\n",
       "        text-align: right;\n",
       "    }\n",
       "</style>\n",
       "<table border=\"1\" class=\"dataframe\">\n",
       "  <thead>\n",
       "    <tr style=\"text-align: right;\">\n",
       "      <th></th>\n",
       "      <th>children</th>\n",
       "      <th>days_employed</th>\n",
       "      <th>dob_years</th>\n",
       "      <th>education</th>\n",
       "      <th>education_id</th>\n",
       "      <th>family_status</th>\n",
       "      <th>family_status_id</th>\n",
       "      <th>gender</th>\n",
       "      <th>income_type</th>\n",
       "      <th>debt</th>\n",
       "      <th>total_income</th>\n",
       "      <th>purpose</th>\n",
       "      <th>total_income_category</th>\n",
       "      <th>purpose_category</th>\n",
       "    </tr>\n",
       "  </thead>\n",
       "  <tbody>\n",
       "    <tr>\n",
       "      <th>0</th>\n",
       "      <td>1</td>\n",
       "      <td>8437.673028</td>\n",
       "      <td>42</td>\n",
       "      <td>высшее</td>\n",
       "      <td>0</td>\n",
       "      <td>женат / замужем</td>\n",
       "      <td>0</td>\n",
       "      <td>F</td>\n",
       "      <td>сотрудник</td>\n",
       "      <td>0</td>\n",
       "      <td>253875</td>\n",
       "      <td>покупка жилья</td>\n",
       "      <td>B</td>\n",
       "      <td>операции с недвижимостью</td>\n",
       "    </tr>\n",
       "    <tr>\n",
       "      <th>1</th>\n",
       "      <td>1</td>\n",
       "      <td>4024.803754</td>\n",
       "      <td>36</td>\n",
       "      <td>среднее</td>\n",
       "      <td>1</td>\n",
       "      <td>женат / замужем</td>\n",
       "      <td>0</td>\n",
       "      <td>F</td>\n",
       "      <td>сотрудник</td>\n",
       "      <td>0</td>\n",
       "      <td>112080</td>\n",
       "      <td>приобретение автомобиля</td>\n",
       "      <td>C</td>\n",
       "      <td>операции с автомобилем</td>\n",
       "    </tr>\n",
       "    <tr>\n",
       "      <th>2</th>\n",
       "      <td>0</td>\n",
       "      <td>5623.422610</td>\n",
       "      <td>33</td>\n",
       "      <td>среднее</td>\n",
       "      <td>1</td>\n",
       "      <td>женат / замужем</td>\n",
       "      <td>0</td>\n",
       "      <td>M</td>\n",
       "      <td>сотрудник</td>\n",
       "      <td>0</td>\n",
       "      <td>145885</td>\n",
       "      <td>покупка жилья</td>\n",
       "      <td>C</td>\n",
       "      <td>операции с недвижимостью</td>\n",
       "    </tr>\n",
       "    <tr>\n",
       "      <th>3</th>\n",
       "      <td>3</td>\n",
       "      <td>4124.747207</td>\n",
       "      <td>32</td>\n",
       "      <td>среднее</td>\n",
       "      <td>1</td>\n",
       "      <td>женат / замужем</td>\n",
       "      <td>0</td>\n",
       "      <td>M</td>\n",
       "      <td>сотрудник</td>\n",
       "      <td>0</td>\n",
       "      <td>267628</td>\n",
       "      <td>дополнительное образование</td>\n",
       "      <td>B</td>\n",
       "      <td>получение образования</td>\n",
       "    </tr>\n",
       "    <tr>\n",
       "      <th>4</th>\n",
       "      <td>0</td>\n",
       "      <td>340266.072047</td>\n",
       "      <td>53</td>\n",
       "      <td>среднее</td>\n",
       "      <td>1</td>\n",
       "      <td>гражданский брак</td>\n",
       "      <td>1</td>\n",
       "      <td>F</td>\n",
       "      <td>пенсионер</td>\n",
       "      <td>0</td>\n",
       "      <td>158616</td>\n",
       "      <td>сыграть свадьбу</td>\n",
       "      <td>C</td>\n",
       "      <td>проведение свадьбы</td>\n",
       "    </tr>\n",
       "    <tr>\n",
       "      <th>...</th>\n",
       "      <td>...</td>\n",
       "      <td>...</td>\n",
       "      <td>...</td>\n",
       "      <td>...</td>\n",
       "      <td>...</td>\n",
       "      <td>...</td>\n",
       "      <td>...</td>\n",
       "      <td>...</td>\n",
       "      <td>...</td>\n",
       "      <td>...</td>\n",
       "      <td>...</td>\n",
       "      <td>...</td>\n",
       "      <td>...</td>\n",
       "      <td>...</td>\n",
       "    </tr>\n",
       "    <tr>\n",
       "      <th>21520</th>\n",
       "      <td>1</td>\n",
       "      <td>4529.316663</td>\n",
       "      <td>43</td>\n",
       "      <td>среднее</td>\n",
       "      <td>1</td>\n",
       "      <td>гражданский брак</td>\n",
       "      <td>1</td>\n",
       "      <td>F</td>\n",
       "      <td>компаньон</td>\n",
       "      <td>0</td>\n",
       "      <td>224791</td>\n",
       "      <td>операции с жильем</td>\n",
       "      <td>B</td>\n",
       "      <td>операции с недвижимостью</td>\n",
       "    </tr>\n",
       "    <tr>\n",
       "      <th>21521</th>\n",
       "      <td>0</td>\n",
       "      <td>343937.404131</td>\n",
       "      <td>67</td>\n",
       "      <td>среднее</td>\n",
       "      <td>1</td>\n",
       "      <td>женат / замужем</td>\n",
       "      <td>0</td>\n",
       "      <td>F</td>\n",
       "      <td>пенсионер</td>\n",
       "      <td>0</td>\n",
       "      <td>155999</td>\n",
       "      <td>сделка с автомобилем</td>\n",
       "      <td>C</td>\n",
       "      <td>операции с автомобилем</td>\n",
       "    </tr>\n",
       "    <tr>\n",
       "      <th>21522</th>\n",
       "      <td>1</td>\n",
       "      <td>2113.346888</td>\n",
       "      <td>38</td>\n",
       "      <td>среднее</td>\n",
       "      <td>1</td>\n",
       "      <td>гражданский брак</td>\n",
       "      <td>1</td>\n",
       "      <td>M</td>\n",
       "      <td>сотрудник</td>\n",
       "      <td>1</td>\n",
       "      <td>89672</td>\n",
       "      <td>недвижимость</td>\n",
       "      <td>C</td>\n",
       "      <td>операции с недвижимостью</td>\n",
       "    </tr>\n",
       "    <tr>\n",
       "      <th>21523</th>\n",
       "      <td>3</td>\n",
       "      <td>3112.481705</td>\n",
       "      <td>38</td>\n",
       "      <td>среднее</td>\n",
       "      <td>1</td>\n",
       "      <td>женат / замужем</td>\n",
       "      <td>0</td>\n",
       "      <td>M</td>\n",
       "      <td>сотрудник</td>\n",
       "      <td>1</td>\n",
       "      <td>244093</td>\n",
       "      <td>на покупку своего автомобиля</td>\n",
       "      <td>B</td>\n",
       "      <td>операции с автомобилем</td>\n",
       "    </tr>\n",
       "    <tr>\n",
       "      <th>21524</th>\n",
       "      <td>2</td>\n",
       "      <td>1984.507589</td>\n",
       "      <td>40</td>\n",
       "      <td>среднее</td>\n",
       "      <td>1</td>\n",
       "      <td>женат / замужем</td>\n",
       "      <td>0</td>\n",
       "      <td>F</td>\n",
       "      <td>сотрудник</td>\n",
       "      <td>0</td>\n",
       "      <td>82047</td>\n",
       "      <td>на покупку автомобиля</td>\n",
       "      <td>C</td>\n",
       "      <td>операции с автомобилем</td>\n",
       "    </tr>\n",
       "  </tbody>\n",
       "</table>\n",
       "<p>21331 rows × 14 columns</p>\n",
       "</div>"
      ],
      "text/plain": [
       "       children  days_employed  dob_years education  education_id  \\\n",
       "0             1    8437.673028         42    высшее             0   \n",
       "1             1    4024.803754         36   среднее             1   \n",
       "2             0    5623.422610         33   среднее             1   \n",
       "3             3    4124.747207         32   среднее             1   \n",
       "4             0  340266.072047         53   среднее             1   \n",
       "...         ...            ...        ...       ...           ...   \n",
       "21520         1    4529.316663         43   среднее             1   \n",
       "21521         0  343937.404131         67   среднее             1   \n",
       "21522         1    2113.346888         38   среднее             1   \n",
       "21523         3    3112.481705         38   среднее             1   \n",
       "21524         2    1984.507589         40   среднее             1   \n",
       "\n",
       "          family_status  family_status_id gender income_type  debt  \\\n",
       "0       женат / замужем                 0      F   сотрудник     0   \n",
       "1       женат / замужем                 0      F   сотрудник     0   \n",
       "2       женат / замужем                 0      M   сотрудник     0   \n",
       "3       женат / замужем                 0      M   сотрудник     0   \n",
       "4      гражданский брак                 1      F   пенсионер     0   \n",
       "...                 ...               ...    ...         ...   ...   \n",
       "21520  гражданский брак                 1      F   компаньон     0   \n",
       "21521   женат / замужем                 0      F   пенсионер     0   \n",
       "21522  гражданский брак                 1      M   сотрудник     1   \n",
       "21523   женат / замужем                 0      M   сотрудник     1   \n",
       "21524   женат / замужем                 0      F   сотрудник     0   \n",
       "\n",
       "       total_income                       purpose total_income_category  \\\n",
       "0            253875                 покупка жилья                     B   \n",
       "1            112080       приобретение автомобиля                     C   \n",
       "2            145885                 покупка жилья                     C   \n",
       "3            267628    дополнительное образование                     B   \n",
       "4            158616               сыграть свадьбу                     C   \n",
       "...             ...                           ...                   ...   \n",
       "21520        224791             операции с жильем                     B   \n",
       "21521        155999          сделка с автомобилем                     C   \n",
       "21522         89672                  недвижимость                     C   \n",
       "21523        244093  на покупку своего автомобиля                     B   \n",
       "21524         82047         на покупку автомобиля                     C   \n",
       "\n",
       "               purpose_category  \n",
       "0      операции с недвижимостью  \n",
       "1        операции с автомобилем  \n",
       "2      операции с недвижимостью  \n",
       "3         получение образования  \n",
       "4            проведение свадьбы  \n",
       "...                         ...  \n",
       "21520  операции с недвижимостью  \n",
       "21521    операции с автомобилем  \n",
       "21522  операции с недвижимостью  \n",
       "21523    операции с автомобилем  \n",
       "21524    операции с автомобилем  \n",
       "\n",
       "[21331 rows x 14 columns]"
      ]
     },
     "execution_count": 23,
     "metadata": {},
     "output_type": "execute_result"
    }
   ],
   "source": [
    "data"
   ]
  },
  {
   "cell_type": "markdown",
   "id": "35691dae",
   "metadata": {},
   "source": [
    "### Шаг 3. Исследуйте данные и ответьте на вопросы"
   ]
  },
  {
   "cell_type": "markdown",
   "id": "0546c999",
   "metadata": {},
   "source": [
    "#### 3.1 Есть ли зависимость между количеством детей и возвратом кредита в срок?"
   ]
  },
  {
   "cell_type": "code",
   "execution_count": 24,
   "id": "94335620",
   "metadata": {},
   "outputs": [
    {
     "data": {
      "text/html": [
       "<div>\n",
       "<style scoped>\n",
       "    .dataframe tbody tr th:only-of-type {\n",
       "        vertical-align: middle;\n",
       "    }\n",
       "\n",
       "    .dataframe tbody tr th {\n",
       "        vertical-align: top;\n",
       "    }\n",
       "\n",
       "    .dataframe thead tr th {\n",
       "        text-align: left;\n",
       "    }\n",
       "\n",
       "    .dataframe thead tr:last-of-type th {\n",
       "        text-align: right;\n",
       "    }\n",
       "</style>\n",
       "<table border=\"1\" class=\"dataframe\">\n",
       "  <thead>\n",
       "    <tr>\n",
       "      <th></th>\n",
       "      <th>count</th>\n",
       "      <th>sum</th>\n",
       "      <th>mean</th>\n",
       "    </tr>\n",
       "    <tr>\n",
       "      <th></th>\n",
       "      <th>debt</th>\n",
       "      <th>debt</th>\n",
       "      <th>debt</th>\n",
       "    </tr>\n",
       "    <tr>\n",
       "      <th>children</th>\n",
       "      <th></th>\n",
       "      <th></th>\n",
       "      <th></th>\n",
       "    </tr>\n",
       "  </thead>\n",
       "  <tbody>\n",
       "    <tr>\n",
       "      <th>0</th>\n",
       "      <td>14091</td>\n",
       "      <td>1063</td>\n",
       "      <td>0.075438</td>\n",
       "    </tr>\n",
       "    <tr>\n",
       "      <th>1</th>\n",
       "      <td>4808</td>\n",
       "      <td>444</td>\n",
       "      <td>0.092346</td>\n",
       "    </tr>\n",
       "    <tr>\n",
       "      <th>2</th>\n",
       "      <td>2052</td>\n",
       "      <td>194</td>\n",
       "      <td>0.094542</td>\n",
       "    </tr>\n",
       "    <tr>\n",
       "      <th>3</th>\n",
       "      <td>330</td>\n",
       "      <td>27</td>\n",
       "      <td>0.081818</td>\n",
       "    </tr>\n",
       "    <tr>\n",
       "      <th>4</th>\n",
       "      <td>41</td>\n",
       "      <td>4</td>\n",
       "      <td>0.097561</td>\n",
       "    </tr>\n",
       "    <tr>\n",
       "      <th>5</th>\n",
       "      <td>9</td>\n",
       "      <td>0</td>\n",
       "      <td>0.000000</td>\n",
       "    </tr>\n",
       "  </tbody>\n",
       "</table>\n",
       "</div>"
      ],
      "text/plain": [
       "          count   sum      mean\n",
       "           debt  debt      debt\n",
       "children                       \n",
       "0         14091  1063  0.075438\n",
       "1          4808   444  0.092346\n",
       "2          2052   194  0.094542\n",
       "3           330    27  0.081818\n",
       "4            41     4  0.097561\n",
       "5             9     0  0.000000"
      ]
     },
     "execution_count": 24,
     "metadata": {},
     "output_type": "execute_result"
    }
   ],
   "source": [
    "#С помощью сводной таблицы найдем количество клиентов в каждой группе по количеству детей, сумму случаев задолженности и долю должников. \n",
    "data.pivot_table(index = 'children', values = 'debt', aggfunc = ['count', 'sum', 'mean'])"
   ]
  },
  {
   "cell_type": "markdown",
   "id": "cb0fc0cd",
   "metadata": {},
   "source": [
    "<div style=\"border:solid green 2px; padding: 20px\">\n",
    "    \n",
    "Из полученной таблицы видим, что в группе клиентов с пятью детьми задолженности нет, а с четырьмя детьми - самая большая доля задолженности. Однако, выборка клиентов в этих группах небольшая. Сгруппируем клиентов по количеству детей: без детей, до двух детей, более трёх."
   ]
  },
  {
   "cell_type": "code",
   "execution_count": 25,
   "id": "aa7faeb1",
   "metadata": {},
   "outputs": [],
   "source": [
    "def children_category(child):\n",
    "    quantity = child['children']\n",
    "    if quantity == 0:\n",
    "        return 'без детей'\n",
    "    if 0<quantity<3:\n",
    "        return 'от 1 до 2 детей'\n",
    "    if 2<quantity<6:\n",
    "        return 'от 3 детей'\n",
    "       \n",
    "data['children_category'] = data.apply(children_category, axis = 1)"
   ]
  },
  {
   "cell_type": "code",
   "execution_count": 26,
   "id": "82e5ed5c",
   "metadata": {},
   "outputs": [
    {
     "data": {
      "text/html": [
       "<div>\n",
       "<style scoped>\n",
       "    .dataframe tbody tr th:only-of-type {\n",
       "        vertical-align: middle;\n",
       "    }\n",
       "\n",
       "    .dataframe tbody tr th {\n",
       "        vertical-align: top;\n",
       "    }\n",
       "\n",
       "    .dataframe thead tr th {\n",
       "        text-align: left;\n",
       "    }\n",
       "\n",
       "    .dataframe thead tr:last-of-type th {\n",
       "        text-align: right;\n",
       "    }\n",
       "</style>\n",
       "<table border=\"1\" class=\"dataframe\">\n",
       "  <thead>\n",
       "    <tr>\n",
       "      <th></th>\n",
       "      <th>count</th>\n",
       "      <th>sum</th>\n",
       "      <th>mean</th>\n",
       "    </tr>\n",
       "    <tr>\n",
       "      <th></th>\n",
       "      <th>debt</th>\n",
       "      <th>debt</th>\n",
       "      <th>debt</th>\n",
       "    </tr>\n",
       "    <tr>\n",
       "      <th>children_category</th>\n",
       "      <th></th>\n",
       "      <th></th>\n",
       "      <th></th>\n",
       "    </tr>\n",
       "  </thead>\n",
       "  <tbody>\n",
       "    <tr>\n",
       "      <th>без детей</th>\n",
       "      <td>14091</td>\n",
       "      <td>1063</td>\n",
       "      <td>0.075438</td>\n",
       "    </tr>\n",
       "    <tr>\n",
       "      <th>от 1 до 2 детей</th>\n",
       "      <td>6860</td>\n",
       "      <td>638</td>\n",
       "      <td>0.093003</td>\n",
       "    </tr>\n",
       "    <tr>\n",
       "      <th>от 3 детей</th>\n",
       "      <td>380</td>\n",
       "      <td>31</td>\n",
       "      <td>0.081579</td>\n",
       "    </tr>\n",
       "  </tbody>\n",
       "</table>\n",
       "</div>"
      ],
      "text/plain": [
       "                   count   sum      mean\n",
       "                    debt  debt      debt\n",
       "children_category                       \n",
       "без детей          14091  1063  0.075438\n",
       "от 1 до 2 детей     6860   638  0.093003\n",
       "от 3 детей           380    31  0.081579"
      ]
     },
     "execution_count": 26,
     "metadata": {},
     "output_type": "execute_result"
    }
   ],
   "source": [
    "data.pivot_table(index=['children_category'], values = ['debt'], aggfunc = ['count', 'sum','mean'])"
   ]
  },
  {
   "cell_type": "markdown",
   "id": "85248c16",
   "metadata": {},
   "source": [
    "<div style=\"border:solid green 2px; padding: 20px\">\n",
    "    \n",
    "**Вывод:**\n",
    "Самые ответственные клиенты, те у кого нет детей. Доля задолженностей по выплате кредита в этой группе 7,5% процентов. Самая большая доля клиентов с задолженностью в группе от 1 до 2 детей."
   ]
  },
  {
   "cell_type": "markdown",
   "id": "cd559065",
   "metadata": {},
   "source": [
    "#### 3.2 Есть ли зависимость между семейным положением и возвратом кредита в срок?"
   ]
  },
  {
   "cell_type": "code",
   "execution_count": 27,
   "id": "a666ce5a",
   "metadata": {},
   "outputs": [
    {
     "data": {
      "text/html": [
       "<div>\n",
       "<style scoped>\n",
       "    .dataframe tbody tr th:only-of-type {\n",
       "        vertical-align: middle;\n",
       "    }\n",
       "\n",
       "    .dataframe tbody tr th {\n",
       "        vertical-align: top;\n",
       "    }\n",
       "\n",
       "    .dataframe thead tr th {\n",
       "        text-align: left;\n",
       "    }\n",
       "\n",
       "    .dataframe thead tr:last-of-type th {\n",
       "        text-align: right;\n",
       "    }\n",
       "</style>\n",
       "<table border=\"1\" class=\"dataframe\">\n",
       "  <thead>\n",
       "    <tr>\n",
       "      <th></th>\n",
       "      <th colspan=\"2\" halign=\"left\">debt</th>\n",
       "      <th>conversion</th>\n",
       "    </tr>\n",
       "    <tr>\n",
       "      <th></th>\n",
       "      <th>count</th>\n",
       "      <th>sum</th>\n",
       "      <th></th>\n",
       "    </tr>\n",
       "    <tr>\n",
       "      <th>family_status</th>\n",
       "      <th></th>\n",
       "      <th></th>\n",
       "      <th></th>\n",
       "    </tr>\n",
       "  </thead>\n",
       "  <tbody>\n",
       "    <tr>\n",
       "      <th>вдовец / вдова</th>\n",
       "      <td>951</td>\n",
       "      <td>63</td>\n",
       "      <td>0.066246</td>\n",
       "    </tr>\n",
       "    <tr>\n",
       "      <th>в разводе</th>\n",
       "      <td>1189</td>\n",
       "      <td>84</td>\n",
       "      <td>0.070648</td>\n",
       "    </tr>\n",
       "    <tr>\n",
       "      <th>женат / замужем</th>\n",
       "      <td>12261</td>\n",
       "      <td>927</td>\n",
       "      <td>0.075606</td>\n",
       "    </tr>\n",
       "    <tr>\n",
       "      <th>гражданский брак</th>\n",
       "      <td>4134</td>\n",
       "      <td>385</td>\n",
       "      <td>0.093130</td>\n",
       "    </tr>\n",
       "    <tr>\n",
       "      <th>Не женат / не замужем</th>\n",
       "      <td>2796</td>\n",
       "      <td>273</td>\n",
       "      <td>0.097639</td>\n",
       "    </tr>\n",
       "  </tbody>\n",
       "</table>\n",
       "</div>"
      ],
      "text/plain": [
       "                        debt      conversion\n",
       "                       count  sum           \n",
       "family_status                               \n",
       "вдовец / вдова           951   63   0.066246\n",
       "в разводе               1189   84   0.070648\n",
       "женат / замужем        12261  927   0.075606\n",
       "гражданский брак        4134  385   0.093130\n",
       "Не женат / не замужем   2796  273   0.097639"
      ]
     },
     "execution_count": 27,
     "metadata": {},
     "output_type": "execute_result"
    }
   ],
   "source": [
    "family_status_grouped = data.groupby('family_status').agg({'debt': ['count', 'sum']})\n",
    "family_status_grouped['conversion'] =\\\n",
    "family_status_grouped['debt']['sum'] / family_status_grouped['debt']['count']\n",
    "family_status_grouped.sort_values(by=['conversion'])"
   ]
  },
  {
   "cell_type": "markdown",
   "id": "23c47b65",
   "metadata": {},
   "source": [
    "<div style=\"border:solid green 2px; padding: 20px\">\n",
    "Из полученных данных можем выделить категорию с наименьшей долей задолженности - `вдовец/вдова`, что составляет 6,6%. Скорее всего на показатели влияет возраст данных клиентов. Проверим эту гипотезу, вычеслив средний возраст каждой из группы. А проблемные категории - `гражданский брак и не женат/не замужем`, что составляет 9,3% и 9,7% соответственно. Их объединаяет отсутсвие законных отношений."
   ]
  },
  {
   "cell_type": "code",
   "execution_count": 28,
   "id": "92efa53d",
   "metadata": {},
   "outputs": [
    {
     "data": {
      "text/html": [
       "<div>\n",
       "<style scoped>\n",
       "    .dataframe tbody tr th:only-of-type {\n",
       "        vertical-align: middle;\n",
       "    }\n",
       "\n",
       "    .dataframe tbody tr th {\n",
       "        vertical-align: top;\n",
       "    }\n",
       "\n",
       "    .dataframe thead tr th {\n",
       "        text-align: left;\n",
       "    }\n",
       "\n",
       "    .dataframe thead tr:last-of-type th {\n",
       "        text-align: right;\n",
       "    }\n",
       "</style>\n",
       "<table border=\"1\" class=\"dataframe\">\n",
       "  <thead>\n",
       "    <tr>\n",
       "      <th></th>\n",
       "      <th>mean</th>\n",
       "    </tr>\n",
       "    <tr>\n",
       "      <th></th>\n",
       "      <th>dob_years</th>\n",
       "    </tr>\n",
       "    <tr>\n",
       "      <th>family_status</th>\n",
       "      <th></th>\n",
       "    </tr>\n",
       "  </thead>\n",
       "  <tbody>\n",
       "    <tr>\n",
       "      <th>Не женат / не замужем</th>\n",
       "      <td>38.368026</td>\n",
       "    </tr>\n",
       "    <tr>\n",
       "      <th>в разводе</th>\n",
       "      <td>45.561817</td>\n",
       "    </tr>\n",
       "    <tr>\n",
       "      <th>вдовец / вдова</th>\n",
       "      <td>56.501577</td>\n",
       "    </tr>\n",
       "    <tr>\n",
       "      <th>гражданский брак</th>\n",
       "      <td>42.067731</td>\n",
       "    </tr>\n",
       "    <tr>\n",
       "      <th>женат / замужем</th>\n",
       "      <td>43.558519</td>\n",
       "    </tr>\n",
       "  </tbody>\n",
       "</table>\n",
       "</div>"
      ],
      "text/plain": [
       "                            mean\n",
       "                       dob_years\n",
       "family_status                   \n",
       "Не женат / не замужем  38.368026\n",
       "в разводе              45.561817\n",
       "вдовец / вдова         56.501577\n",
       "гражданский брак       42.067731\n",
       "женат / замужем        43.558519"
      ]
     },
     "execution_count": 28,
     "metadata": {},
     "output_type": "execute_result"
    }
   ],
   "source": [
    "data.pivot_table(index=['family_status'], values = ['dob_years'], aggfunc = ['mean'])"
   ]
  },
  {
   "cell_type": "markdown",
   "id": "e3b28230",
   "metadata": {},
   "source": [
    "<div style=\"border:solid green 2px; padding: 20px\">\n",
    "Гипотеза про средний возраст подтвердилась - группа клиентов с семейным положением `вдовец/вдова` имеет средний возраст выше, чем в остальных группах. "
   ]
  },
  {
   "cell_type": "markdown",
   "id": "8e75ae44",
   "metadata": {},
   "source": [
    "<div style=\"border:solid green 2px; padding: 20px\">\n",
    "**Вывод:** \n",
    "Полученные данные позволяют сделать вывод, что семейное положение влияет на задолженность по возврату кредита в срок. "
   ]
  },
  {
   "cell_type": "markdown",
   "id": "3fd751a0",
   "metadata": {},
   "source": [
    "#### 3.3 Есть ли зависимость между уровнем дохода и возвратом кредита в срок?"
   ]
  },
  {
   "cell_type": "code",
   "execution_count": 29,
   "id": "9b16374f",
   "metadata": {},
   "outputs": [
    {
     "data": {
      "text/html": [
       "<div>\n",
       "<style scoped>\n",
       "    .dataframe tbody tr th:only-of-type {\n",
       "        vertical-align: middle;\n",
       "    }\n",
       "\n",
       "    .dataframe tbody tr th {\n",
       "        vertical-align: top;\n",
       "    }\n",
       "\n",
       "    .dataframe thead tr th {\n",
       "        text-align: left;\n",
       "    }\n",
       "\n",
       "    .dataframe thead tr:last-of-type th {\n",
       "        text-align: right;\n",
       "    }\n",
       "</style>\n",
       "<table border=\"1\" class=\"dataframe\">\n",
       "  <thead>\n",
       "    <tr>\n",
       "      <th></th>\n",
       "      <th>count</th>\n",
       "      <th>sum</th>\n",
       "      <th>mean</th>\n",
       "    </tr>\n",
       "    <tr>\n",
       "      <th></th>\n",
       "      <th>debt</th>\n",
       "      <th>debt</th>\n",
       "      <th>debt</th>\n",
       "    </tr>\n",
       "    <tr>\n",
       "      <th>total_income_category</th>\n",
       "      <th></th>\n",
       "      <th></th>\n",
       "      <th></th>\n",
       "    </tr>\n",
       "  </thead>\n",
       "  <tbody>\n",
       "    <tr>\n",
       "      <th>A</th>\n",
       "      <td>25</td>\n",
       "      <td>2</td>\n",
       "      <td>0.080000</td>\n",
       "    </tr>\n",
       "    <tr>\n",
       "      <th>B</th>\n",
       "      <td>5014</td>\n",
       "      <td>354</td>\n",
       "      <td>0.070602</td>\n",
       "    </tr>\n",
       "    <tr>\n",
       "      <th>C</th>\n",
       "      <td>15921</td>\n",
       "      <td>1353</td>\n",
       "      <td>0.084982</td>\n",
       "    </tr>\n",
       "    <tr>\n",
       "      <th>D</th>\n",
       "      <td>349</td>\n",
       "      <td>21</td>\n",
       "      <td>0.060172</td>\n",
       "    </tr>\n",
       "    <tr>\n",
       "      <th>E</th>\n",
       "      <td>22</td>\n",
       "      <td>2</td>\n",
       "      <td>0.090909</td>\n",
       "    </tr>\n",
       "  </tbody>\n",
       "</table>\n",
       "</div>"
      ],
      "text/plain": [
       "                       count   sum      mean\n",
       "                        debt  debt      debt\n",
       "total_income_category                       \n",
       "A                         25     2  0.080000\n",
       "B                       5014   354  0.070602\n",
       "C                      15921  1353  0.084982\n",
       "D                        349    21  0.060172\n",
       "E                         22     2  0.090909"
      ]
     },
     "execution_count": 29,
     "metadata": {},
     "output_type": "execute_result"
    }
   ],
   "source": [
    "data.pivot_table(index=['total_income_category'], values = ['debt'], aggfunc = ['count', 'sum','mean'])"
   ]
  },
  {
   "cell_type": "markdown",
   "id": "c2726ffa",
   "metadata": {},
   "source": [
    "<div style=\"border:solid green 2px; padding: 20px\">\n",
    "    \n",
    "В группе `E` с низким уровнем дохода - 9% доля задолженности. Однако, выборка клиентов небольшая, всего 22 человек. А группа клиентов выше `D`, наоборот имеет самую низкую долю задолженности - 6%. "
   ]
  },
  {
   "cell_type": "markdown",
   "id": "47bf4c09",
   "metadata": {},
   "source": [
    "<div style=\"border:solid green 2px; padding: 20px\">\n",
    "\n",
    "Из-за неоднородности данных разделим их на равные сегменты для дальнейшего анализа."
   ]
  },
  {
   "cell_type": "code",
   "execution_count": 30,
   "id": "7ceb1971",
   "metadata": {},
   "outputs": [
    {
     "data": {
      "text/html": [
       "<div>\n",
       "<style scoped>\n",
       "    .dataframe tbody tr th:only-of-type {\n",
       "        vertical-align: middle;\n",
       "    }\n",
       "\n",
       "    .dataframe tbody tr th {\n",
       "        vertical-align: top;\n",
       "    }\n",
       "\n",
       "    .dataframe thead tr th {\n",
       "        text-align: left;\n",
       "    }\n",
       "\n",
       "    .dataframe thead tr:last-of-type th {\n",
       "        text-align: right;\n",
       "    }\n",
       "</style>\n",
       "<table border=\"1\" class=\"dataframe\">\n",
       "  <thead>\n",
       "    <tr>\n",
       "      <th></th>\n",
       "      <th>count</th>\n",
       "      <th>sum</th>\n",
       "      <th>mean</th>\n",
       "    </tr>\n",
       "    <tr>\n",
       "      <th></th>\n",
       "      <th>debt</th>\n",
       "      <th>debt</th>\n",
       "      <th>debt</th>\n",
       "    </tr>\n",
       "    <tr>\n",
       "      <th>total_income_qcut</th>\n",
       "      <th></th>\n",
       "      <th></th>\n",
       "      <th></th>\n",
       "    </tr>\n",
       "  </thead>\n",
       "  <tbody>\n",
       "    <tr>\n",
       "      <th>(20666.999, 107507.0]</th>\n",
       "      <td>5333</td>\n",
       "      <td>427</td>\n",
       "      <td>0.080068</td>\n",
       "    </tr>\n",
       "    <tr>\n",
       "      <th>(107507.0, 142594.0]</th>\n",
       "      <td>5450</td>\n",
       "      <td>480</td>\n",
       "      <td>0.088073</td>\n",
       "    </tr>\n",
       "    <tr>\n",
       "      <th>(142594.0, 195842.0]</th>\n",
       "      <td>5216</td>\n",
       "      <td>444</td>\n",
       "      <td>0.085123</td>\n",
       "    </tr>\n",
       "    <tr>\n",
       "      <th>(195842.0, 2265604.0]</th>\n",
       "      <td>5332</td>\n",
       "      <td>381</td>\n",
       "      <td>0.071455</td>\n",
       "    </tr>\n",
       "  </tbody>\n",
       "</table>\n",
       "</div>"
      ],
      "text/plain": [
       "                      count  sum      mean\n",
       "                       debt debt      debt\n",
       "total_income_qcut                         \n",
       "(20666.999, 107507.0]  5333  427  0.080068\n",
       "(107507.0, 142594.0]   5450  480  0.088073\n",
       "(142594.0, 195842.0]   5216  444  0.085123\n",
       "(195842.0, 2265604.0]  5332  381  0.071455"
      ]
     },
     "execution_count": 30,
     "metadata": {},
     "output_type": "execute_result"
    }
   ],
   "source": [
    "data['total_income_qcut'] = pd.qcut(data['total_income'], q = 4)\n",
    "data.pivot_table(index = ['total_income_qcut'], values = ['debt'], aggfunc = ['count', 'sum','mean'])"
   ]
  },
  {
   "cell_type": "markdown",
   "id": "aa2e5f93",
   "metadata": {},
   "source": [
    "<div style=\"border:solid green 2px; padding: 20px\">\n",
    "**Вывод:** \n",
    "Клиенты c уровнем дохода свыше 195 842 имеют самую низкую долю задолженности. Однако, следующими в группе идут наоборот клиенты с самым низким уровнем дохода менее 107 507. Скорее всего данная группа клиентов лучше управляет своим бюджетом, чтобы не испортить свою кредитную историю, чем клиенты со средним достатком, у которых самая большая доля задолженностей."
   ]
  },
  {
   "cell_type": "markdown",
   "id": "0c8ea556",
   "metadata": {},
   "source": [
    "#### 3.4 Как разные цели кредита влияют на его возврат в срок?"
   ]
  },
  {
   "cell_type": "code",
   "execution_count": 31,
   "id": "6087e250",
   "metadata": {},
   "outputs": [
    {
     "data": {
      "text/html": [
       "<div>\n",
       "<style scoped>\n",
       "    .dataframe tbody tr th:only-of-type {\n",
       "        vertical-align: middle;\n",
       "    }\n",
       "\n",
       "    .dataframe tbody tr th {\n",
       "        vertical-align: top;\n",
       "    }\n",
       "\n",
       "    .dataframe thead tr th {\n",
       "        text-align: left;\n",
       "    }\n",
       "\n",
       "    .dataframe thead tr:last-of-type th {\n",
       "        text-align: right;\n",
       "    }\n",
       "</style>\n",
       "<table border=\"1\" class=\"dataframe\">\n",
       "  <thead>\n",
       "    <tr>\n",
       "      <th></th>\n",
       "      <th>count</th>\n",
       "      <th>sum</th>\n",
       "      <th>mean</th>\n",
       "    </tr>\n",
       "    <tr>\n",
       "      <th></th>\n",
       "      <th>debt</th>\n",
       "      <th>debt</th>\n",
       "      <th>debt</th>\n",
       "    </tr>\n",
       "    <tr>\n",
       "      <th>purpose_category</th>\n",
       "      <th></th>\n",
       "      <th></th>\n",
       "      <th></th>\n",
       "    </tr>\n",
       "  </thead>\n",
       "  <tbody>\n",
       "    <tr>\n",
       "      <th>операции с автомобилем</th>\n",
       "      <td>4279</td>\n",
       "      <td>400</td>\n",
       "      <td>0.093480</td>\n",
       "    </tr>\n",
       "    <tr>\n",
       "      <th>операции с недвижимостью</th>\n",
       "      <td>10751</td>\n",
       "      <td>780</td>\n",
       "      <td>0.072551</td>\n",
       "    </tr>\n",
       "    <tr>\n",
       "      <th>получение образования</th>\n",
       "      <td>3988</td>\n",
       "      <td>369</td>\n",
       "      <td>0.092528</td>\n",
       "    </tr>\n",
       "    <tr>\n",
       "      <th>проведение свадьбы</th>\n",
       "      <td>2313</td>\n",
       "      <td>183</td>\n",
       "      <td>0.079118</td>\n",
       "    </tr>\n",
       "  </tbody>\n",
       "</table>\n",
       "</div>"
      ],
      "text/plain": [
       "                          count  sum      mean\n",
       "                           debt debt      debt\n",
       "purpose_category                              \n",
       "операции с автомобилем     4279  400  0.093480\n",
       "операции с недвижимостью  10751  780  0.072551\n",
       "получение образования      3988  369  0.092528\n",
       "проведение свадьбы         2313  183  0.079118"
      ]
     },
     "execution_count": 31,
     "metadata": {},
     "output_type": "execute_result"
    }
   ],
   "source": [
    "data.pivot_table(index = 'purpose_category', values = 'debt', aggfunc = ['count', 'sum', 'mean'])"
   ]
  },
  {
   "cell_type": "markdown",
   "id": "674878c1",
   "metadata": {},
   "source": [
    "<div style=\"border:solid green 2px; padding: 20px\">\n",
    "**Вывод:** \n",
    "Самые проблемные категории - `операции с автомобилем` и `получение образования`. "
   ]
  },
  {
   "cell_type": "markdown",
   "id": "9d55153d",
   "metadata": {},
   "source": [
    "#### 3.5 Приведите возможные причины появления пропусков в исходных данных."
   ]
  },
  {
   "cell_type": "markdown",
   "id": "cc525b35",
   "metadata": {},
   "source": [
    "<div style=\"border:solid green 2px; padding: 20px\">\n",
    "*Ответ:*\n",
    "Причина может быть в том, что клиенты не указывали данные о продолжительности трудового стажа и уровень дохода, потому что думали, что это повлияет на одобрение кредита.\n",
    "А также бывают случайные пропуски. Либо работник банка может забыть спросить клиента, либо сам клиент может случайно пропустить данный пункт при заполнении анкеты. "
   ]
  },
  {
   "cell_type": "markdown",
   "id": "a49422da",
   "metadata": {},
   "source": [
    "#### 3.6 Объясните, почему заполнить пропуски медианным значением — лучшее решение для количественных переменных."
   ]
  },
  {
   "cell_type": "markdown",
   "id": "12894d77",
   "metadata": {},
   "source": [
    "<div style=\"border:solid green 2px; padding: 20px\">\n",
    "*Ответ:* \n",
    "Медианные значения более корректно помогают заполнить пропуски, так как это середина всех значений, что не искажает данные при наличии значений резко выделяющихся из массива данных."
   ]
  },
  {
   "cell_type": "markdown",
   "id": "9debc7f4",
   "metadata": {},
   "source": [
    "### Шаг 4: общий вывод."
   ]
  },
  {
   "cell_type": "markdown",
   "id": "5453bd68",
   "metadata": {},
   "source": [
    "<div style=\"border:solid green 2px; padding: 20px\">\n",
    "Проанализировав данные можем сделать выводы, что `более надежные клиенты`:\n",
    "- без детей\n",
    "- вдовцы/вдовы \n",
    "- с уровнем дохода свыше 195 842\n",
    "- с целями на кредит - проведение свадьбы и операции с недвижимостью.\n",
    "\n",
    "`Самые проблемные группы клиентов`:\n",
    "- от 1 до 2 детей\n",
    "- не состоящие в законных отношениях\n",
    "- со средним уровнем дохода  - от 107 507 до 142 594.\n",
    "- c целями на кредит `операции с автомобилем` и `получение образования`.\n"
   ]
  },
  {
   "cell_type": "code",
   "execution_count": null,
   "id": "12314a78",
   "metadata": {},
   "outputs": [],
   "source": []
  }
 ],
 "metadata": {
  "ExecuteTimeLog": [
   {
    "duration": 371,
    "start_time": "2023-01-22T04:39:46.478Z"
   },
   {
    "duration": 60,
    "start_time": "2023-01-22T04:40:54.320Z"
   },
   {
    "duration": 3,
    "start_time": "2023-01-22T04:41:11.128Z"
   },
   {
    "duration": 328,
    "start_time": "2023-01-22T04:41:11.134Z"
   },
   {
    "duration": 2,
    "start_time": "2023-01-22T04:41:18.126Z"
   },
   {
    "duration": 68,
    "start_time": "2023-01-22T04:41:18.130Z"
   },
   {
    "duration": 414,
    "start_time": "2023-01-22T04:41:32.252Z"
   },
   {
    "duration": 70,
    "start_time": "2023-01-22T04:41:32.667Z"
   },
   {
    "duration": 21,
    "start_time": "2023-01-22T04:41:32.738Z"
   },
   {
    "duration": 2,
    "start_time": "2023-01-22T04:41:32.761Z"
   },
   {
    "duration": 4,
    "start_time": "2023-01-22T04:41:32.765Z"
   },
   {
    "duration": 8,
    "start_time": "2023-01-22T04:41:32.771Z"
   },
   {
    "duration": 4,
    "start_time": "2023-01-22T04:41:32.781Z"
   },
   {
    "duration": 15,
    "start_time": "2023-01-22T04:41:32.786Z"
   },
   {
    "duration": 10,
    "start_time": "2023-01-22T04:41:32.803Z"
   },
   {
    "duration": 13,
    "start_time": "2023-01-22T04:41:32.815Z"
   },
   {
    "duration": 17,
    "start_time": "2023-01-22T04:41:32.830Z"
   },
   {
    "duration": 5,
    "start_time": "2023-01-22T04:41:32.849Z"
   },
   {
    "duration": 7,
    "start_time": "2023-01-22T04:41:32.856Z"
   },
   {
    "duration": 5,
    "start_time": "2023-01-22T04:41:32.868Z"
   },
   {
    "duration": 5,
    "start_time": "2023-01-22T04:41:32.875Z"
   },
   {
    "duration": 10,
    "start_time": "2023-01-22T04:41:32.882Z"
   },
   {
    "duration": 5,
    "start_time": "2023-01-22T04:41:32.895Z"
   },
   {
    "duration": 5,
    "start_time": "2023-01-22T04:41:32.901Z"
   },
   {
    "duration": 6,
    "start_time": "2023-01-22T04:41:32.907Z"
   },
   {
    "duration": 6,
    "start_time": "2023-01-22T04:41:32.915Z"
   },
   {
    "duration": 4,
    "start_time": "2023-01-22T04:41:32.923Z"
   },
   {
    "duration": 7,
    "start_time": "2023-01-22T04:41:32.928Z"
   },
   {
    "duration": 14,
    "start_time": "2023-01-22T04:42:49.554Z"
   },
   {
    "duration": 10,
    "start_time": "2023-01-22T04:44:41.830Z"
   },
   {
    "duration": 59,
    "start_time": "2023-01-22T04:48:24.663Z"
   },
   {
    "duration": 7,
    "start_time": "2023-01-22T04:48:38.359Z"
   },
   {
    "duration": 8,
    "start_time": "2023-01-22T04:53:57.406Z"
   },
   {
    "duration": 8,
    "start_time": "2023-01-22T04:54:04.869Z"
   },
   {
    "duration": 19,
    "start_time": "2023-01-22T04:54:32.133Z"
   },
   {
    "duration": 10,
    "start_time": "2023-01-22T04:56:59.529Z"
   },
   {
    "duration": 8,
    "start_time": "2023-01-22T04:57:34.750Z"
   },
   {
    "duration": 6,
    "start_time": "2023-01-22T05:01:11.815Z"
   },
   {
    "duration": 10,
    "start_time": "2023-01-22T05:01:37.243Z"
   },
   {
    "duration": 10,
    "start_time": "2023-01-22T05:01:54.373Z"
   },
   {
    "duration": 13,
    "start_time": "2023-01-22T05:03:24.196Z"
   },
   {
    "duration": 8,
    "start_time": "2023-01-22T05:05:03.868Z"
   },
   {
    "duration": 11,
    "start_time": "2023-01-22T05:05:46.533Z"
   },
   {
    "duration": 3,
    "start_time": "2023-01-22T05:05:59.785Z"
   },
   {
    "duration": 100,
    "start_time": "2023-01-22T05:05:59.790Z"
   },
   {
    "duration": 16,
    "start_time": "2023-01-22T05:05:59.892Z"
   },
   {
    "duration": 25,
    "start_time": "2023-01-22T05:05:59.910Z"
   },
   {
    "duration": 11,
    "start_time": "2023-01-22T05:05:59.949Z"
   },
   {
    "duration": 11,
    "start_time": "2023-01-22T05:05:59.962Z"
   },
   {
    "duration": 8,
    "start_time": "2023-01-22T05:07:24.469Z"
   },
   {
    "duration": 48,
    "start_time": "2023-01-22T05:19:49.563Z"
   },
   {
    "duration": 3,
    "start_time": "2023-01-22T08:59:30.817Z"
   },
   {
    "duration": 6,
    "start_time": "2023-01-22T08:59:49.095Z"
   },
   {
    "duration": 7,
    "start_time": "2023-01-22T09:29:09.781Z"
   },
   {
    "duration": 7,
    "start_time": "2023-01-22T09:29:40.995Z"
   },
   {
    "duration": 4,
    "start_time": "2023-01-22T09:31:12.887Z"
   },
   {
    "duration": 5,
    "start_time": "2023-01-22T09:32:59.698Z"
   },
   {
    "duration": 81,
    "start_time": "2023-01-22T10:08:34.057Z"
   },
   {
    "duration": 91,
    "start_time": "2023-01-22T10:09:38.305Z"
   },
   {
    "duration": 4,
    "start_time": "2023-01-22T10:09:58.390Z"
   },
   {
    "duration": 12,
    "start_time": "2023-01-22T10:10:09.289Z"
   },
   {
    "duration": 11,
    "start_time": "2023-01-22T10:10:25.957Z"
   },
   {
    "duration": 2,
    "start_time": "2023-01-22T10:10:36.290Z"
   },
   {
    "duration": 82,
    "start_time": "2023-01-22T10:10:36.295Z"
   },
   {
    "duration": 15,
    "start_time": "2023-01-22T10:10:36.379Z"
   },
   {
    "duration": 21,
    "start_time": "2023-01-22T10:10:36.396Z"
   },
   {
    "duration": 12,
    "start_time": "2023-01-22T10:10:36.419Z"
   },
   {
    "duration": 47,
    "start_time": "2023-01-22T10:10:36.432Z"
   },
   {
    "duration": 5,
    "start_time": "2023-01-22T10:10:36.481Z"
   },
   {
    "duration": 8,
    "start_time": "2023-01-22T10:10:36.488Z"
   },
   {
    "duration": 5,
    "start_time": "2023-01-22T10:10:36.498Z"
   },
   {
    "duration": 12,
    "start_time": "2023-01-22T10:10:36.504Z"
   },
   {
    "duration": 455,
    "start_time": "2023-01-22T10:10:44.732Z"
   },
   {
    "duration": 104,
    "start_time": "2023-01-22T10:10:45.190Z"
   },
   {
    "duration": 36,
    "start_time": "2023-01-22T10:10:45.296Z"
   },
   {
    "duration": 41,
    "start_time": "2023-01-22T10:10:45.334Z"
   },
   {
    "duration": 11,
    "start_time": "2023-01-22T10:10:45.378Z"
   },
   {
    "duration": 56,
    "start_time": "2023-01-22T10:10:45.392Z"
   },
   {
    "duration": 17,
    "start_time": "2023-01-22T10:10:45.450Z"
   },
   {
    "duration": 17,
    "start_time": "2023-01-22T10:10:45.469Z"
   },
   {
    "duration": 26,
    "start_time": "2023-01-22T10:10:45.488Z"
   },
   {
    "duration": 104,
    "start_time": "2023-01-22T10:10:45.516Z"
   },
   {
    "duration": 0,
    "start_time": "2023-01-22T10:10:45.623Z"
   },
   {
    "duration": 0,
    "start_time": "2023-01-22T10:10:45.625Z"
   },
   {
    "duration": 0,
    "start_time": "2023-01-22T10:10:45.626Z"
   },
   {
    "duration": 0,
    "start_time": "2023-01-22T10:10:45.628Z"
   },
   {
    "duration": 0,
    "start_time": "2023-01-22T10:10:45.629Z"
   },
   {
    "duration": 0,
    "start_time": "2023-01-22T10:10:45.630Z"
   },
   {
    "duration": 0,
    "start_time": "2023-01-22T10:10:45.631Z"
   },
   {
    "duration": 0,
    "start_time": "2023-01-22T10:10:45.632Z"
   },
   {
    "duration": 1,
    "start_time": "2023-01-22T10:10:45.633Z"
   },
   {
    "duration": 0,
    "start_time": "2023-01-22T10:10:45.635Z"
   },
   {
    "duration": 0,
    "start_time": "2023-01-22T10:10:45.637Z"
   },
   {
    "duration": 0,
    "start_time": "2023-01-22T10:10:45.650Z"
   },
   {
    "duration": 13,
    "start_time": "2023-01-22T10:10:57.008Z"
   },
   {
    "duration": 9,
    "start_time": "2023-01-22T10:11:04.897Z"
   },
   {
    "duration": 11,
    "start_time": "2023-01-22T10:11:22.007Z"
   },
   {
    "duration": 372,
    "start_time": "2023-01-22T10:11:38.662Z"
   },
   {
    "duration": 72,
    "start_time": "2023-01-22T10:11:39.035Z"
   },
   {
    "duration": 21,
    "start_time": "2023-01-22T10:11:39.109Z"
   },
   {
    "duration": 17,
    "start_time": "2023-01-22T10:11:39.131Z"
   },
   {
    "duration": 9,
    "start_time": "2023-01-22T10:11:39.151Z"
   },
   {
    "duration": 35,
    "start_time": "2023-01-22T10:11:39.162Z"
   },
   {
    "duration": 7,
    "start_time": "2023-01-22T10:11:39.198Z"
   },
   {
    "duration": 12,
    "start_time": "2023-01-22T10:11:39.207Z"
   },
   {
    "duration": 31,
    "start_time": "2023-01-22T10:11:39.221Z"
   },
   {
    "duration": 8,
    "start_time": "2023-01-22T10:11:39.254Z"
   },
   {
    "duration": 2,
    "start_time": "2023-01-22T10:11:39.264Z"
   },
   {
    "duration": 9,
    "start_time": "2023-01-22T10:11:39.268Z"
   },
   {
    "duration": 6,
    "start_time": "2023-01-22T10:11:39.279Z"
   },
   {
    "duration": 6,
    "start_time": "2023-01-22T10:11:39.288Z"
   },
   {
    "duration": 8,
    "start_time": "2023-01-22T10:11:39.296Z"
   },
   {
    "duration": 14,
    "start_time": "2023-01-22T10:11:39.306Z"
   },
   {
    "duration": 13,
    "start_time": "2023-01-22T10:11:39.322Z"
   },
   {
    "duration": 10,
    "start_time": "2023-01-22T10:11:39.337Z"
   },
   {
    "duration": 7,
    "start_time": "2023-01-22T10:11:39.349Z"
   },
   {
    "duration": 14,
    "start_time": "2023-01-22T10:11:39.357Z"
   },
   {
    "duration": 8,
    "start_time": "2023-01-22T10:11:39.373Z"
   },
   {
    "duration": 10,
    "start_time": "2023-01-22T10:11:39.382Z"
   },
   {
    "duration": 6,
    "start_time": "2023-01-22T10:11:51.607Z"
   },
   {
    "duration": 9,
    "start_time": "2023-01-22T10:11:56.766Z"
   },
   {
    "duration": 9,
    "start_time": "2023-01-22T10:12:45.448Z"
   },
   {
    "duration": 5,
    "start_time": "2023-01-22T10:13:55.261Z"
   },
   {
    "duration": 33,
    "start_time": "2023-01-22T10:17:19.493Z"
   },
   {
    "duration": 14,
    "start_time": "2023-01-22T10:18:09.286Z"
   },
   {
    "duration": 68,
    "start_time": "2023-01-22T10:19:14.515Z"
   },
   {
    "duration": 7,
    "start_time": "2023-01-22T10:19:27.679Z"
   },
   {
    "duration": 7,
    "start_time": "2023-01-22T10:19:52.550Z"
   },
   {
    "duration": 5,
    "start_time": "2023-01-22T10:20:48.422Z"
   },
   {
    "duration": 6,
    "start_time": "2023-01-22T10:21:06.878Z"
   },
   {
    "duration": 4,
    "start_time": "2023-01-22T10:21:31.775Z"
   },
   {
    "duration": 847,
    "start_time": "2023-01-22T10:22:07.871Z"
   },
   {
    "duration": 3,
    "start_time": "2023-01-22T10:23:00.684Z"
   },
   {
    "duration": 86,
    "start_time": "2023-01-22T10:23:00.689Z"
   },
   {
    "duration": 14,
    "start_time": "2023-01-22T10:23:00.776Z"
   },
   {
    "duration": 26,
    "start_time": "2023-01-22T10:23:00.793Z"
   },
   {
    "duration": 28,
    "start_time": "2023-01-22T10:23:00.821Z"
   },
   {
    "duration": 55,
    "start_time": "2023-01-22T10:23:00.851Z"
   },
   {
    "duration": 8,
    "start_time": "2023-01-22T10:23:00.908Z"
   },
   {
    "duration": 24,
    "start_time": "2023-01-22T10:23:00.918Z"
   },
   {
    "duration": 36,
    "start_time": "2023-01-22T10:23:00.944Z"
   },
   {
    "duration": 31,
    "start_time": "2023-01-22T10:23:00.983Z"
   },
   {
    "duration": 19,
    "start_time": "2023-01-22T10:23:01.016Z"
   },
   {
    "duration": 48,
    "start_time": "2023-01-22T10:23:01.037Z"
   },
   {
    "duration": 12,
    "start_time": "2023-01-22T10:23:01.087Z"
   },
   {
    "duration": 381,
    "start_time": "2023-01-22T10:23:10.561Z"
   },
   {
    "duration": 80,
    "start_time": "2023-01-22T10:23:10.945Z"
   },
   {
    "duration": 23,
    "start_time": "2023-01-22T10:23:11.027Z"
   },
   {
    "duration": 28,
    "start_time": "2023-01-22T10:23:11.051Z"
   },
   {
    "duration": 15,
    "start_time": "2023-01-22T10:23:11.082Z"
   },
   {
    "duration": 34,
    "start_time": "2023-01-22T10:23:11.098Z"
   },
   {
    "duration": 18,
    "start_time": "2023-01-22T10:23:11.134Z"
   },
   {
    "duration": 11,
    "start_time": "2023-01-22T10:23:11.154Z"
   },
   {
    "duration": 8,
    "start_time": "2023-01-22T10:23:11.166Z"
   },
   {
    "duration": 13,
    "start_time": "2023-01-22T10:23:11.176Z"
   },
   {
    "duration": 12,
    "start_time": "2023-01-22T10:23:11.190Z"
   },
   {
    "duration": 50,
    "start_time": "2023-01-22T10:23:11.203Z"
   },
   {
    "duration": 10,
    "start_time": "2023-01-22T10:23:11.255Z"
   },
   {
    "duration": 6,
    "start_time": "2023-01-22T10:23:11.269Z"
   },
   {
    "duration": 4,
    "start_time": "2023-01-22T10:23:11.277Z"
   },
   {
    "duration": 8,
    "start_time": "2023-01-22T10:23:11.283Z"
   },
   {
    "duration": 9,
    "start_time": "2023-01-22T10:23:11.292Z"
   },
   {
    "duration": 7,
    "start_time": "2023-01-22T10:23:11.303Z"
   },
   {
    "duration": 8,
    "start_time": "2023-01-22T10:23:11.312Z"
   },
   {
    "duration": 16,
    "start_time": "2023-01-22T10:23:11.322Z"
   },
   {
    "duration": 12,
    "start_time": "2023-01-22T10:23:11.339Z"
   },
   {
    "duration": 11,
    "start_time": "2023-01-22T10:23:11.352Z"
   },
   {
    "duration": 3,
    "start_time": "2023-01-22T10:23:21.807Z"
   },
   {
    "duration": 3,
    "start_time": "2023-01-22T10:25:26.056Z"
   },
   {
    "duration": 11,
    "start_time": "2023-01-22T10:57:19.860Z"
   },
   {
    "duration": 76,
    "start_time": "2023-01-22T11:10:49.156Z"
   },
   {
    "duration": 6,
    "start_time": "2023-01-22T11:11:11.429Z"
   },
   {
    "duration": 7,
    "start_time": "2023-01-22T11:13:03.564Z"
   },
   {
    "duration": 7,
    "start_time": "2023-01-22T11:13:31.537Z"
   },
   {
    "duration": 6,
    "start_time": "2023-01-22T11:14:26.989Z"
   },
   {
    "duration": 3,
    "start_time": "2023-01-22T11:14:51.771Z"
   },
   {
    "duration": 73,
    "start_time": "2023-01-22T11:14:51.776Z"
   },
   {
    "duration": 18,
    "start_time": "2023-01-22T11:14:51.851Z"
   },
   {
    "duration": 15,
    "start_time": "2023-01-22T11:14:51.871Z"
   },
   {
    "duration": 13,
    "start_time": "2023-01-22T11:14:51.889Z"
   },
   {
    "duration": 55,
    "start_time": "2023-01-22T11:14:51.904Z"
   },
   {
    "duration": 7,
    "start_time": "2023-01-22T11:14:51.961Z"
   },
   {
    "duration": 10,
    "start_time": "2023-01-22T11:14:51.970Z"
   },
   {
    "duration": 6,
    "start_time": "2023-01-22T11:14:51.981Z"
   },
   {
    "duration": 7,
    "start_time": "2023-01-22T11:14:51.989Z"
   },
   {
    "duration": 17,
    "start_time": "2023-01-22T11:14:51.997Z"
   },
   {
    "duration": 52,
    "start_time": "2023-01-22T11:14:52.016Z"
   },
   {
    "duration": 14,
    "start_time": "2023-01-22T11:14:52.070Z"
   },
   {
    "duration": 8,
    "start_time": "2023-01-22T11:14:52.086Z"
   },
   {
    "duration": 19,
    "start_time": "2023-01-22T11:14:52.095Z"
   },
   {
    "duration": 5,
    "start_time": "2023-01-22T11:14:52.116Z"
   },
   {
    "duration": 5,
    "start_time": "2023-01-22T11:14:52.124Z"
   },
   {
    "duration": 403,
    "start_time": "2023-01-22T11:15:24.070Z"
   },
   {
    "duration": 70,
    "start_time": "2023-01-22T11:15:24.476Z"
   },
   {
    "duration": 21,
    "start_time": "2023-01-22T11:15:24.548Z"
   },
   {
    "duration": 22,
    "start_time": "2023-01-22T11:15:24.571Z"
   },
   {
    "duration": 9,
    "start_time": "2023-01-22T11:15:24.595Z"
   },
   {
    "duration": 59,
    "start_time": "2023-01-22T11:15:24.606Z"
   },
   {
    "duration": 7,
    "start_time": "2023-01-22T11:15:24.667Z"
   },
   {
    "duration": 13,
    "start_time": "2023-01-22T11:15:24.676Z"
   },
   {
    "duration": 4,
    "start_time": "2023-01-22T11:15:24.691Z"
   },
   {
    "duration": 8,
    "start_time": "2023-01-22T11:15:24.698Z"
   },
   {
    "duration": 13,
    "start_time": "2023-01-22T11:15:24.708Z"
   },
   {
    "duration": 49,
    "start_time": "2023-01-22T11:15:24.749Z"
   },
   {
    "duration": 14,
    "start_time": "2023-01-22T11:15:24.800Z"
   },
   {
    "duration": 8,
    "start_time": "2023-01-22T11:15:24.815Z"
   },
   {
    "duration": 27,
    "start_time": "2023-01-22T11:15:24.825Z"
   },
   {
    "duration": 6,
    "start_time": "2023-01-22T11:15:24.854Z"
   },
   {
    "duration": 8,
    "start_time": "2023-01-22T11:15:24.862Z"
   },
   {
    "duration": 4,
    "start_time": "2023-01-22T11:15:24.871Z"
   },
   {
    "duration": 8,
    "start_time": "2023-01-22T11:15:24.876Z"
   },
   {
    "duration": 4,
    "start_time": "2023-01-22T11:15:24.885Z"
   },
   {
    "duration": 4,
    "start_time": "2023-01-22T11:15:24.891Z"
   },
   {
    "duration": 6,
    "start_time": "2023-01-22T11:15:24.897Z"
   },
   {
    "duration": 8,
    "start_time": "2023-01-22T11:16:46.708Z"
   },
   {
    "duration": 4,
    "start_time": "2023-01-22T11:18:39.946Z"
   },
   {
    "duration": 16,
    "start_time": "2023-01-22T11:18:49.612Z"
   },
   {
    "duration": 5,
    "start_time": "2023-01-22T11:20:36.959Z"
   },
   {
    "duration": 4,
    "start_time": "2023-01-22T11:20:44.773Z"
   },
   {
    "duration": 4,
    "start_time": "2023-01-22T11:22:12.166Z"
   },
   {
    "duration": 4,
    "start_time": "2023-01-22T11:22:14.572Z"
   },
   {
    "duration": 5,
    "start_time": "2023-01-22T11:22:48.568Z"
   },
   {
    "duration": 427,
    "start_time": "2023-01-22T11:23:05.343Z"
   },
   {
    "duration": 72,
    "start_time": "2023-01-22T11:23:05.771Z"
   },
   {
    "duration": 22,
    "start_time": "2023-01-22T11:23:05.845Z"
   },
   {
    "duration": 15,
    "start_time": "2023-01-22T11:23:05.868Z"
   },
   {
    "duration": 13,
    "start_time": "2023-01-22T11:23:05.885Z"
   },
   {
    "duration": 58,
    "start_time": "2023-01-22T11:23:05.900Z"
   },
   {
    "duration": 6,
    "start_time": "2023-01-22T11:23:05.959Z"
   },
   {
    "duration": 12,
    "start_time": "2023-01-22T11:23:05.966Z"
   },
   {
    "duration": 5,
    "start_time": "2023-01-22T11:23:05.979Z"
   },
   {
    "duration": 7,
    "start_time": "2023-01-22T11:23:05.985Z"
   },
   {
    "duration": 3,
    "start_time": "2023-01-22T11:23:05.994Z"
   },
   {
    "duration": 59,
    "start_time": "2023-01-22T11:23:05.998Z"
   },
   {
    "duration": 12,
    "start_time": "2023-01-22T11:23:06.059Z"
   },
   {
    "duration": 9,
    "start_time": "2023-01-22T11:23:06.074Z"
   },
   {
    "duration": 14,
    "start_time": "2023-01-22T11:23:06.085Z"
   },
   {
    "duration": 6,
    "start_time": "2023-01-22T11:23:06.100Z"
   },
   {
    "duration": 6,
    "start_time": "2023-01-22T11:23:06.107Z"
   },
   {
    "duration": 7,
    "start_time": "2023-01-22T11:23:06.114Z"
   },
   {
    "duration": 5,
    "start_time": "2023-01-22T11:23:06.122Z"
   },
   {
    "duration": 19,
    "start_time": "2023-01-22T11:23:06.129Z"
   },
   {
    "duration": 4,
    "start_time": "2023-01-22T11:23:06.150Z"
   },
   {
    "duration": 4,
    "start_time": "2023-01-22T11:23:06.156Z"
   },
   {
    "duration": 6,
    "start_time": "2023-01-22T11:23:14.040Z"
   },
   {
    "duration": 5,
    "start_time": "2023-01-22T11:23:58.716Z"
   },
   {
    "duration": 8,
    "start_time": "2023-01-22T11:24:09.147Z"
   },
   {
    "duration": 5,
    "start_time": "2023-01-22T11:24:17.776Z"
   },
   {
    "duration": 6,
    "start_time": "2023-01-22T11:24:26.747Z"
   },
   {
    "duration": 5,
    "start_time": "2023-01-22T11:24:34.079Z"
   },
   {
    "duration": 407,
    "start_time": "2023-01-22T11:26:35.328Z"
   },
   {
    "duration": 71,
    "start_time": "2023-01-22T11:26:35.737Z"
   },
   {
    "duration": 20,
    "start_time": "2023-01-22T11:26:35.810Z"
   },
   {
    "duration": 13,
    "start_time": "2023-01-22T11:26:35.832Z"
   },
   {
    "duration": 9,
    "start_time": "2023-01-22T11:26:35.847Z"
   },
   {
    "duration": 31,
    "start_time": "2023-01-22T11:26:35.857Z"
   },
   {
    "duration": 7,
    "start_time": "2023-01-22T11:26:35.889Z"
   },
   {
    "duration": 8,
    "start_time": "2023-01-22T11:26:35.898Z"
   },
   {
    "duration": 4,
    "start_time": "2023-01-22T11:26:35.909Z"
   },
   {
    "duration": 43,
    "start_time": "2023-01-22T11:26:35.915Z"
   },
   {
    "duration": 5,
    "start_time": "2023-01-22T11:26:35.960Z"
   },
   {
    "duration": 35,
    "start_time": "2023-01-22T11:26:35.967Z"
   },
   {
    "duration": 10,
    "start_time": "2023-01-22T11:26:36.004Z"
   },
   {
    "duration": 4,
    "start_time": "2023-01-22T11:26:36.016Z"
   },
   {
    "duration": 27,
    "start_time": "2023-01-22T11:26:36.021Z"
   },
   {
    "duration": 6,
    "start_time": "2023-01-22T11:26:36.049Z"
   },
   {
    "duration": 9,
    "start_time": "2023-01-22T11:26:36.056Z"
   },
   {
    "duration": 8,
    "start_time": "2023-01-22T11:26:36.067Z"
   },
   {
    "duration": 13,
    "start_time": "2023-01-22T11:26:36.076Z"
   },
   {
    "duration": 4,
    "start_time": "2023-01-22T11:26:36.090Z"
   },
   {
    "duration": 5,
    "start_time": "2023-01-22T11:26:36.095Z"
   },
   {
    "duration": 8,
    "start_time": "2023-01-22T11:26:36.101Z"
   },
   {
    "duration": 4,
    "start_time": "2023-01-22T11:28:10.263Z"
   },
   {
    "duration": 5,
    "start_time": "2023-01-22T11:28:14.002Z"
   },
   {
    "duration": 7,
    "start_time": "2023-01-22T11:42:04.036Z"
   },
   {
    "duration": 8,
    "start_time": "2023-01-22T11:42:20.665Z"
   },
   {
    "duration": 6,
    "start_time": "2023-01-22T11:42:29.174Z"
   },
   {
    "duration": 2,
    "start_time": "2023-01-22T11:43:06.913Z"
   },
   {
    "duration": 92,
    "start_time": "2023-01-22T11:43:06.918Z"
   },
   {
    "duration": 14,
    "start_time": "2023-01-22T11:43:07.012Z"
   },
   {
    "duration": 29,
    "start_time": "2023-01-22T11:43:07.028Z"
   },
   {
    "duration": 11,
    "start_time": "2023-01-22T11:43:07.060Z"
   },
   {
    "duration": 40,
    "start_time": "2023-01-22T11:43:07.073Z"
   },
   {
    "duration": 6,
    "start_time": "2023-01-22T11:43:07.115Z"
   },
   {
    "duration": 30,
    "start_time": "2023-01-22T11:43:07.123Z"
   },
   {
    "duration": 5,
    "start_time": "2023-01-22T11:43:07.155Z"
   },
   {
    "duration": 9,
    "start_time": "2023-01-22T11:43:07.161Z"
   },
   {
    "duration": 6,
    "start_time": "2023-01-22T11:43:07.172Z"
   },
   {
    "duration": 33,
    "start_time": "2023-01-22T11:43:07.180Z"
   },
   {
    "duration": 34,
    "start_time": "2023-01-22T11:43:07.215Z"
   },
   {
    "duration": 4,
    "start_time": "2023-01-22T11:43:07.251Z"
   },
   {
    "duration": 15,
    "start_time": "2023-01-22T11:43:07.256Z"
   },
   {
    "duration": 5,
    "start_time": "2023-01-22T11:43:07.272Z"
   },
   {
    "duration": 395,
    "start_time": "2023-01-22T11:43:15.589Z"
   },
   {
    "duration": 71,
    "start_time": "2023-01-22T11:43:15.986Z"
   },
   {
    "duration": 21,
    "start_time": "2023-01-22T11:43:16.058Z"
   },
   {
    "duration": 19,
    "start_time": "2023-01-22T11:43:16.080Z"
   },
   {
    "duration": 25,
    "start_time": "2023-01-22T11:43:16.102Z"
   },
   {
    "duration": 65,
    "start_time": "2023-01-22T11:43:16.129Z"
   },
   {
    "duration": 7,
    "start_time": "2023-01-22T11:43:16.196Z"
   },
   {
    "duration": 23,
    "start_time": "2023-01-22T11:43:16.204Z"
   },
   {
    "duration": 19,
    "start_time": "2023-01-22T11:43:16.228Z"
   },
   {
    "duration": 21,
    "start_time": "2023-01-22T11:43:16.249Z"
   },
   {
    "duration": 42,
    "start_time": "2023-01-22T11:43:16.271Z"
   },
   {
    "duration": 58,
    "start_time": "2023-01-22T11:43:16.315Z"
   },
   {
    "duration": 9,
    "start_time": "2023-01-22T11:43:16.375Z"
   },
   {
    "duration": 15,
    "start_time": "2023-01-22T11:43:16.388Z"
   },
   {
    "duration": 39,
    "start_time": "2023-01-22T11:43:16.405Z"
   },
   {
    "duration": 19,
    "start_time": "2023-01-22T11:43:16.445Z"
   },
   {
    "duration": 38,
    "start_time": "2023-01-22T11:43:16.465Z"
   },
   {
    "duration": 7,
    "start_time": "2023-01-22T11:43:16.504Z"
   },
   {
    "duration": 9,
    "start_time": "2023-01-22T11:43:16.513Z"
   },
   {
    "duration": 10,
    "start_time": "2023-01-22T11:43:16.523Z"
   },
   {
    "duration": 11,
    "start_time": "2023-01-22T11:43:16.534Z"
   },
   {
    "duration": 7,
    "start_time": "2023-01-22T11:43:16.546Z"
   },
   {
    "duration": 8,
    "start_time": "2023-01-22T11:43:23.707Z"
   },
   {
    "duration": 11,
    "start_time": "2023-01-22T11:44:32.811Z"
   },
   {
    "duration": 6,
    "start_time": "2023-01-22T11:44:49.583Z"
   },
   {
    "duration": 6,
    "start_time": "2023-01-22T11:45:08.907Z"
   },
   {
    "duration": 62,
    "start_time": "2023-01-22T11:47:49.239Z"
   },
   {
    "duration": 5,
    "start_time": "2023-01-22T11:47:59.419Z"
   },
   {
    "duration": 5,
    "start_time": "2023-01-22T11:48:03.042Z"
   },
   {
    "duration": 4,
    "start_time": "2023-01-22T11:48:16.000Z"
   },
   {
    "duration": 419,
    "start_time": "2023-01-22T11:48:26.430Z"
   },
   {
    "duration": 69,
    "start_time": "2023-01-22T11:48:26.851Z"
   },
   {
    "duration": 24,
    "start_time": "2023-01-22T11:48:26.922Z"
   },
   {
    "duration": 17,
    "start_time": "2023-01-22T11:48:26.947Z"
   },
   {
    "duration": 9,
    "start_time": "2023-01-22T11:48:26.966Z"
   },
   {
    "duration": 33,
    "start_time": "2023-01-22T11:48:26.976Z"
   },
   {
    "duration": 6,
    "start_time": "2023-01-22T11:48:27.010Z"
   },
   {
    "duration": 35,
    "start_time": "2023-01-22T11:48:27.017Z"
   },
   {
    "duration": 5,
    "start_time": "2023-01-22T11:48:27.054Z"
   },
   {
    "duration": 9,
    "start_time": "2023-01-22T11:48:27.060Z"
   },
   {
    "duration": 5,
    "start_time": "2023-01-22T11:48:27.070Z"
   },
   {
    "duration": 72,
    "start_time": "2023-01-22T11:48:27.076Z"
   },
   {
    "duration": 13,
    "start_time": "2023-01-22T11:48:27.150Z"
   },
   {
    "duration": 3,
    "start_time": "2023-01-22T11:48:27.166Z"
   },
   {
    "duration": 12,
    "start_time": "2023-01-22T11:48:27.171Z"
   },
   {
    "duration": 10,
    "start_time": "2023-01-22T11:48:27.185Z"
   },
   {
    "duration": 7,
    "start_time": "2023-01-22T11:48:27.197Z"
   },
   {
    "duration": 8,
    "start_time": "2023-01-22T11:48:27.205Z"
   },
   {
    "duration": 8,
    "start_time": "2023-01-22T11:48:27.214Z"
   },
   {
    "duration": 24,
    "start_time": "2023-01-22T11:48:27.224Z"
   },
   {
    "duration": 5,
    "start_time": "2023-01-22T11:48:27.249Z"
   },
   {
    "duration": 5,
    "start_time": "2023-01-22T11:48:27.255Z"
   },
   {
    "duration": 6,
    "start_time": "2023-01-22T11:48:43.767Z"
   },
   {
    "duration": 6,
    "start_time": "2023-01-22T11:49:29.195Z"
   },
   {
    "duration": 5,
    "start_time": "2023-01-22T11:54:11.379Z"
   },
   {
    "duration": 7,
    "start_time": "2023-01-22T11:54:19.298Z"
   },
   {
    "duration": 68,
    "start_time": "2023-01-22T11:55:21.594Z"
   },
   {
    "duration": 10,
    "start_time": "2023-01-22T11:55:26.626Z"
   },
   {
    "duration": 25,
    "start_time": "2023-01-22T11:56:02.313Z"
   },
   {
    "duration": 44,
    "start_time": "2023-01-22T11:56:30.809Z"
   },
   {
    "duration": 43,
    "start_time": "2023-01-22T11:59:01.538Z"
   },
   {
    "duration": 17,
    "start_time": "2023-01-22T11:59:38.655Z"
   },
   {
    "duration": 21,
    "start_time": "2023-01-22T11:59:54.066Z"
   },
   {
    "duration": 41,
    "start_time": "2023-01-22T12:00:09.919Z"
   },
   {
    "duration": 3,
    "start_time": "2023-01-22T12:00:16.985Z"
   },
   {
    "duration": 94,
    "start_time": "2023-01-22T12:00:16.990Z"
   },
   {
    "duration": 21,
    "start_time": "2023-01-22T12:00:17.085Z"
   },
   {
    "duration": 17,
    "start_time": "2023-01-22T12:00:17.108Z"
   },
   {
    "duration": 25,
    "start_time": "2023-01-22T12:00:17.127Z"
   },
   {
    "duration": 91,
    "start_time": "2023-01-22T12:00:17.153Z"
   },
   {
    "duration": 66,
    "start_time": "2023-01-22T12:00:17.246Z"
   },
   {
    "duration": 34,
    "start_time": "2023-01-22T12:00:17.313Z"
   },
   {
    "duration": 33,
    "start_time": "2023-01-22T12:00:17.348Z"
   },
   {
    "duration": 39,
    "start_time": "2023-01-22T12:00:17.383Z"
   },
   {
    "duration": 18,
    "start_time": "2023-01-22T12:00:17.423Z"
   },
   {
    "duration": 44,
    "start_time": "2023-01-22T12:00:17.442Z"
   },
   {
    "duration": 9,
    "start_time": "2023-01-22T12:00:17.488Z"
   },
   {
    "duration": 11,
    "start_time": "2023-01-22T12:00:17.498Z"
   },
   {
    "duration": 21,
    "start_time": "2023-01-22T12:00:17.511Z"
   },
   {
    "duration": 30,
    "start_time": "2023-01-22T12:00:17.534Z"
   },
   {
    "duration": 29,
    "start_time": "2023-01-22T12:00:17.566Z"
   },
   {
    "duration": 19,
    "start_time": "2023-01-22T12:00:26.534Z"
   },
   {
    "duration": 17,
    "start_time": "2023-01-22T12:00:51.652Z"
   },
   {
    "duration": 16,
    "start_time": "2023-01-22T12:01:17.015Z"
   },
   {
    "duration": 393,
    "start_time": "2023-01-22T12:01:25.882Z"
   },
   {
    "duration": 70,
    "start_time": "2023-01-22T12:01:26.277Z"
   },
   {
    "duration": 20,
    "start_time": "2023-01-22T12:01:26.349Z"
   },
   {
    "duration": 14,
    "start_time": "2023-01-22T12:01:26.370Z"
   },
   {
    "duration": 10,
    "start_time": "2023-01-22T12:01:26.386Z"
   },
   {
    "duration": 56,
    "start_time": "2023-01-22T12:01:26.398Z"
   },
   {
    "duration": 7,
    "start_time": "2023-01-22T12:01:26.455Z"
   },
   {
    "duration": 9,
    "start_time": "2023-01-22T12:01:26.463Z"
   },
   {
    "duration": 5,
    "start_time": "2023-01-22T12:01:26.474Z"
   },
   {
    "duration": 7,
    "start_time": "2023-01-22T12:01:26.480Z"
   },
   {
    "duration": 4,
    "start_time": "2023-01-22T12:01:26.489Z"
   },
   {
    "duration": 59,
    "start_time": "2023-01-22T12:01:26.494Z"
   },
   {
    "duration": 9,
    "start_time": "2023-01-22T12:01:26.555Z"
   },
   {
    "duration": 5,
    "start_time": "2023-01-22T12:01:26.566Z"
   },
   {
    "duration": 12,
    "start_time": "2023-01-22T12:01:26.572Z"
   },
   {
    "duration": 21,
    "start_time": "2023-01-22T12:01:26.585Z"
   },
   {
    "duration": 3,
    "start_time": "2023-01-22T12:01:26.607Z"
   },
   {
    "duration": 7,
    "start_time": "2023-01-22T12:01:26.611Z"
   },
   {
    "duration": 5,
    "start_time": "2023-01-22T12:01:26.619Z"
   },
   {
    "duration": 23,
    "start_time": "2023-01-22T12:01:26.625Z"
   },
   {
    "duration": 12,
    "start_time": "2023-01-22T12:01:26.650Z"
   },
   {
    "duration": 5,
    "start_time": "2023-01-22T12:01:26.663Z"
   },
   {
    "duration": 18,
    "start_time": "2023-01-22T12:01:31.621Z"
   },
   {
    "duration": 386,
    "start_time": "2023-01-22T12:03:25.058Z"
   },
   {
    "duration": 89,
    "start_time": "2023-01-22T12:03:25.449Z"
   },
   {
    "duration": 28,
    "start_time": "2023-01-22T12:03:25.540Z"
   },
   {
    "duration": 32,
    "start_time": "2023-01-22T12:03:25.571Z"
   },
   {
    "duration": 11,
    "start_time": "2023-01-22T12:03:25.605Z"
   },
   {
    "duration": 52,
    "start_time": "2023-01-22T12:03:25.617Z"
   },
   {
    "duration": 6,
    "start_time": "2023-01-22T12:03:25.671Z"
   },
   {
    "duration": 10,
    "start_time": "2023-01-22T12:03:25.679Z"
   },
   {
    "duration": 4,
    "start_time": "2023-01-22T12:03:25.691Z"
   },
   {
    "duration": 10,
    "start_time": "2023-01-22T12:03:25.697Z"
   },
   {
    "duration": 5,
    "start_time": "2023-01-22T12:03:25.709Z"
   },
   {
    "duration": 58,
    "start_time": "2023-01-22T12:03:25.715Z"
   },
   {
    "duration": 10,
    "start_time": "2023-01-22T12:03:25.774Z"
   },
   {
    "duration": 15,
    "start_time": "2023-01-22T12:03:25.785Z"
   },
   {
    "duration": 19,
    "start_time": "2023-01-22T12:03:25.801Z"
   },
   {
    "duration": 13,
    "start_time": "2023-01-22T12:03:25.821Z"
   },
   {
    "duration": 14,
    "start_time": "2023-01-22T12:03:25.835Z"
   },
   {
    "duration": 16,
    "start_time": "2023-01-22T12:03:25.851Z"
   },
   {
    "duration": 8,
    "start_time": "2023-01-22T12:03:25.869Z"
   },
   {
    "duration": 11,
    "start_time": "2023-01-22T12:03:25.879Z"
   },
   {
    "duration": 14,
    "start_time": "2023-01-22T12:03:25.892Z"
   },
   {
    "duration": 10,
    "start_time": "2023-01-22T12:03:25.908Z"
   },
   {
    "duration": 70,
    "start_time": "2023-01-22T12:04:07.185Z"
   },
   {
    "duration": 13,
    "start_time": "2023-01-22T12:04:12.575Z"
   },
   {
    "duration": 28,
    "start_time": "2023-01-22T12:06:30.689Z"
   },
   {
    "duration": 17,
    "start_time": "2023-01-22T12:07:42.429Z"
   },
   {
    "duration": 19,
    "start_time": "2023-01-22T12:08:11.292Z"
   },
   {
    "duration": 1108,
    "start_time": "2023-01-22T12:19:35.971Z"
   },
   {
    "duration": 4,
    "start_time": "2023-01-22T12:19:57.524Z"
   },
   {
    "duration": 70,
    "start_time": "2023-01-22T12:19:57.530Z"
   },
   {
    "duration": 14,
    "start_time": "2023-01-22T12:19:57.602Z"
   },
   {
    "duration": 17,
    "start_time": "2023-01-22T12:19:57.617Z"
   },
   {
    "duration": 12,
    "start_time": "2023-01-22T12:19:57.636Z"
   },
   {
    "duration": 39,
    "start_time": "2023-01-22T12:19:57.650Z"
   },
   {
    "duration": 5,
    "start_time": "2023-01-22T12:19:57.691Z"
   },
   {
    "duration": 9,
    "start_time": "2023-01-22T12:19:57.698Z"
   },
   {
    "duration": 5,
    "start_time": "2023-01-22T12:19:57.708Z"
   },
   {
    "duration": 7,
    "start_time": "2023-01-22T12:19:57.715Z"
   },
   {
    "duration": 26,
    "start_time": "2023-01-22T12:19:57.723Z"
   },
   {
    "duration": 35,
    "start_time": "2023-01-22T12:19:57.751Z"
   },
   {
    "duration": 9,
    "start_time": "2023-01-22T12:19:57.788Z"
   },
   {
    "duration": 3,
    "start_time": "2023-01-22T12:19:57.799Z"
   },
   {
    "duration": 12,
    "start_time": "2023-01-22T12:19:57.803Z"
   },
   {
    "duration": 42,
    "start_time": "2023-01-22T12:19:57.817Z"
   },
   {
    "duration": 21,
    "start_time": "2023-01-22T12:19:57.860Z"
   },
   {
    "duration": 3,
    "start_time": "2023-01-22T12:19:57.883Z"
   },
   {
    "duration": 433,
    "start_time": "2023-01-22T12:20:05.160Z"
   },
   {
    "duration": 81,
    "start_time": "2023-01-22T12:20:05.595Z"
   },
   {
    "duration": 22,
    "start_time": "2023-01-22T12:20:05.677Z"
   },
   {
    "duration": 19,
    "start_time": "2023-01-22T12:20:05.701Z"
   },
   {
    "duration": 32,
    "start_time": "2023-01-22T12:20:05.723Z"
   },
   {
    "duration": 45,
    "start_time": "2023-01-22T12:20:05.756Z"
   },
   {
    "duration": 7,
    "start_time": "2023-01-22T12:20:05.803Z"
   },
   {
    "duration": 29,
    "start_time": "2023-01-22T12:20:05.811Z"
   },
   {
    "duration": 15,
    "start_time": "2023-01-22T12:20:05.841Z"
   },
   {
    "duration": 39,
    "start_time": "2023-01-22T12:20:05.858Z"
   },
   {
    "duration": 24,
    "start_time": "2023-01-22T12:20:05.900Z"
   },
   {
    "duration": 41,
    "start_time": "2023-01-22T12:20:05.926Z"
   },
   {
    "duration": 10,
    "start_time": "2023-01-22T12:20:05.968Z"
   },
   {
    "duration": 9,
    "start_time": "2023-01-22T12:20:05.980Z"
   },
   {
    "duration": 31,
    "start_time": "2023-01-22T12:20:05.991Z"
   },
   {
    "duration": 32,
    "start_time": "2023-01-22T12:20:06.023Z"
   },
   {
    "duration": 21,
    "start_time": "2023-01-22T12:20:06.057Z"
   },
   {
    "duration": 4,
    "start_time": "2023-01-22T12:20:06.080Z"
   },
   {
    "duration": 1202,
    "start_time": "2023-01-22T12:20:06.086Z"
   },
   {
    "duration": 0,
    "start_time": "2023-01-22T12:20:07.289Z"
   },
   {
    "duration": 0,
    "start_time": "2023-01-22T12:20:07.290Z"
   },
   {
    "duration": 0,
    "start_time": "2023-01-22T12:20:07.291Z"
   },
   {
    "duration": 1122,
    "start_time": "2023-01-22T12:20:19.998Z"
   },
   {
    "duration": 4,
    "start_time": "2023-01-22T12:22:28.559Z"
   },
   {
    "duration": 1172,
    "start_time": "2023-01-22T12:22:31.560Z"
   },
   {
    "duration": 4,
    "start_time": "2023-01-22T12:24:41.025Z"
   },
   {
    "duration": 1165,
    "start_time": "2023-01-22T12:24:45.832Z"
   },
   {
    "duration": 37,
    "start_time": "2023-01-22T12:27:04.060Z"
   },
   {
    "duration": 4,
    "start_time": "2023-01-22T12:27:23.163Z"
   },
   {
    "duration": 121,
    "start_time": "2023-01-22T12:27:26.592Z"
   },
   {
    "duration": 136,
    "start_time": "2023-01-22T12:27:31.174Z"
   },
   {
    "duration": 6,
    "start_time": "2023-01-22T12:29:47.858Z"
   },
   {
    "duration": 8,
    "start_time": "2023-01-22T12:46:19.668Z"
   },
   {
    "duration": 3,
    "start_time": "2023-01-22T12:46:32.082Z"
   },
   {
    "duration": 129,
    "start_time": "2023-01-22T12:46:34.472Z"
   },
   {
    "duration": 7,
    "start_time": "2023-01-22T12:48:29.275Z"
   },
   {
    "duration": 7,
    "start_time": "2023-01-22T12:49:43.241Z"
   },
   {
    "duration": 5,
    "start_time": "2023-01-22T12:51:58.993Z"
   },
   {
    "duration": 3,
    "start_time": "2023-01-22T12:52:14.681Z"
   },
   {
    "duration": 147,
    "start_time": "2023-01-22T12:52:25.092Z"
   },
   {
    "duration": 124,
    "start_time": "2023-01-22T12:53:47.679Z"
   },
   {
    "duration": 3,
    "start_time": "2023-01-22T12:54:03.984Z"
   },
   {
    "duration": 17,
    "start_time": "2023-01-22T12:54:06.819Z"
   },
   {
    "duration": 3,
    "start_time": "2023-01-22T12:54:28.787Z"
   },
   {
    "duration": 124,
    "start_time": "2023-01-22T12:54:31.630Z"
   },
   {
    "duration": 120,
    "start_time": "2023-01-22T12:55:09.558Z"
   },
   {
    "duration": 8,
    "start_time": "2023-01-22T12:55:34.414Z"
   },
   {
    "duration": 16,
    "start_time": "2023-01-22T12:55:42.917Z"
   },
   {
    "duration": 4,
    "start_time": "2023-01-22T12:56:39.969Z"
   },
   {
    "duration": 158,
    "start_time": "2023-01-22T12:56:42.400Z"
   },
   {
    "duration": 19,
    "start_time": "2023-01-22T12:56:45.638Z"
   },
   {
    "duration": 3,
    "start_time": "2023-01-22T12:57:43.225Z"
   },
   {
    "duration": 167,
    "start_time": "2023-01-22T12:57:44.591Z"
   },
   {
    "duration": 24,
    "start_time": "2023-01-22T12:57:45.464Z"
   },
   {
    "duration": 3,
    "start_time": "2023-01-22T12:59:48.983Z"
   },
   {
    "duration": 119,
    "start_time": "2023-01-22T12:59:50.815Z"
   },
   {
    "duration": 19,
    "start_time": "2023-01-22T12:59:51.600Z"
   },
   {
    "duration": 3,
    "start_time": "2023-01-22T13:00:38.121Z"
   },
   {
    "duration": 121,
    "start_time": "2023-01-22T13:00:39.661Z"
   },
   {
    "duration": 16,
    "start_time": "2023-01-22T13:00:40.968Z"
   },
   {
    "duration": 4,
    "start_time": "2023-01-22T13:05:39.157Z"
   },
   {
    "duration": 118,
    "start_time": "2023-01-22T13:05:41.994Z"
   },
   {
    "duration": 15,
    "start_time": "2023-01-22T13:05:42.765Z"
   },
   {
    "duration": 4,
    "start_time": "2023-01-22T13:06:48.564Z"
   },
   {
    "duration": 123,
    "start_time": "2023-01-22T13:06:50.714Z"
   },
   {
    "duration": 18,
    "start_time": "2023-01-22T13:06:51.608Z"
   },
   {
    "duration": 387,
    "start_time": "2023-01-22T13:09:01.997Z"
   },
   {
    "duration": 93,
    "start_time": "2023-01-22T13:09:02.386Z"
   },
   {
    "duration": 24,
    "start_time": "2023-01-22T13:09:02.481Z"
   },
   {
    "duration": 21,
    "start_time": "2023-01-22T13:09:02.506Z"
   },
   {
    "duration": 14,
    "start_time": "2023-01-22T13:09:02.547Z"
   },
   {
    "duration": 50,
    "start_time": "2023-01-22T13:09:02.563Z"
   },
   {
    "duration": 6,
    "start_time": "2023-01-22T13:09:02.615Z"
   },
   {
    "duration": 26,
    "start_time": "2023-01-22T13:09:02.623Z"
   },
   {
    "duration": 7,
    "start_time": "2023-01-22T13:09:02.650Z"
   },
   {
    "duration": 15,
    "start_time": "2023-01-22T13:09:02.658Z"
   },
   {
    "duration": 11,
    "start_time": "2023-01-22T13:09:02.675Z"
   },
   {
    "duration": 46,
    "start_time": "2023-01-22T13:09:02.688Z"
   },
   {
    "duration": 13,
    "start_time": "2023-01-22T13:09:02.736Z"
   },
   {
    "duration": 4,
    "start_time": "2023-01-22T13:09:02.752Z"
   },
   {
    "duration": 14,
    "start_time": "2023-01-22T13:09:02.757Z"
   },
   {
    "duration": 22,
    "start_time": "2023-01-22T13:09:02.772Z"
   },
   {
    "duration": 19,
    "start_time": "2023-01-22T13:09:02.796Z"
   },
   {
    "duration": 32,
    "start_time": "2023-01-22T13:09:02.817Z"
   },
   {
    "duration": 179,
    "start_time": "2023-01-22T13:09:02.851Z"
   },
   {
    "duration": 6,
    "start_time": "2023-01-22T13:09:03.032Z"
   },
   {
    "duration": 4,
    "start_time": "2023-01-22T13:09:03.048Z"
   },
   {
    "duration": 142,
    "start_time": "2023-01-22T13:09:03.053Z"
   },
   {
    "duration": 17,
    "start_time": "2023-01-22T13:09:03.196Z"
   },
   {
    "duration": 3,
    "start_time": "2023-01-22T13:09:14.306Z"
   },
   {
    "duration": 93,
    "start_time": "2023-01-22T13:09:14.312Z"
   },
   {
    "duration": 15,
    "start_time": "2023-01-22T13:09:14.406Z"
   },
   {
    "duration": 27,
    "start_time": "2023-01-22T13:09:14.423Z"
   },
   {
    "duration": 40,
    "start_time": "2023-01-22T13:09:14.452Z"
   },
   {
    "duration": 44,
    "start_time": "2023-01-22T13:09:14.494Z"
   },
   {
    "duration": 6,
    "start_time": "2023-01-22T13:09:14.540Z"
   },
   {
    "duration": 13,
    "start_time": "2023-01-22T13:09:14.547Z"
   },
   {
    "duration": 6,
    "start_time": "2023-01-22T13:09:14.561Z"
   },
   {
    "duration": 8,
    "start_time": "2023-01-22T13:09:14.570Z"
   },
   {
    "duration": 10,
    "start_time": "2023-01-22T13:09:14.579Z"
   },
   {
    "duration": 38,
    "start_time": "2023-01-22T13:09:14.591Z"
   },
   {
    "duration": 19,
    "start_time": "2023-01-22T13:09:14.630Z"
   },
   {
    "duration": 4,
    "start_time": "2023-01-22T13:09:14.651Z"
   },
   {
    "duration": 12,
    "start_time": "2023-01-22T13:09:14.657Z"
   },
   {
    "duration": 20,
    "start_time": "2023-01-22T13:09:14.671Z"
   },
   {
    "duration": 17,
    "start_time": "2023-01-22T13:09:14.693Z"
   },
   {
    "duration": 4,
    "start_time": "2023-01-22T13:09:14.712Z"
   },
   {
    "duration": 190,
    "start_time": "2023-01-22T13:09:14.717Z"
   },
   {
    "duration": 8,
    "start_time": "2023-01-22T13:09:14.909Z"
   },
   {
    "duration": 64,
    "start_time": "2023-01-22T13:09:14.918Z"
   },
   {
    "duration": 155,
    "start_time": "2023-01-22T13:09:14.984Z"
   },
   {
    "duration": 15,
    "start_time": "2023-01-22T13:09:15.140Z"
   },
   {
    "duration": 85,
    "start_time": "2023-01-22T13:09:58.098Z"
   },
   {
    "duration": 3,
    "start_time": "2023-01-22T13:10:10.907Z"
   },
   {
    "duration": 123,
    "start_time": "2023-01-22T13:10:13.310Z"
   },
   {
    "duration": 16,
    "start_time": "2023-01-22T13:10:13.773Z"
   },
   {
    "duration": 17,
    "start_time": "2023-01-22T13:12:01.498Z"
   },
   {
    "duration": 26,
    "start_time": "2023-01-22T13:12:50.649Z"
   },
   {
    "duration": 3,
    "start_time": "2023-01-22T13:17:56.973Z"
   },
   {
    "duration": 124,
    "start_time": "2023-01-22T13:17:58.831Z"
   },
   {
    "duration": 21,
    "start_time": "2023-01-22T13:18:00.406Z"
   },
   {
    "duration": 4,
    "start_time": "2023-01-22T13:18:53.004Z"
   },
   {
    "duration": 125,
    "start_time": "2023-01-22T13:18:54.550Z"
   },
   {
    "duration": 18,
    "start_time": "2023-01-22T13:18:55.414Z"
   }
  ],
  "colab": {
   "provenance": []
  },
  "kernelspec": {
   "display_name": "Python 3 (ipykernel)",
   "language": "python",
   "name": "python3"
  },
  "language_info": {
   "codemirror_mode": {
    "name": "ipython",
    "version": 3
   },
   "file_extension": ".py",
   "mimetype": "text/x-python",
   "name": "python",
   "nbconvert_exporter": "python",
   "pygments_lexer": "ipython3",
   "version": "3.9.13"
  },
  "toc": {
   "base_numbering": 1,
   "nav_menu": {},
   "number_sections": true,
   "sideBar": true,
   "skip_h1_title": true,
   "title_cell": "Table of Contents",
   "title_sidebar": "Contents",
   "toc_cell": false,
   "toc_position": {},
   "toc_section_display": true,
   "toc_window_display": false
  }
 },
 "nbformat": 4,
 "nbformat_minor": 5
}
